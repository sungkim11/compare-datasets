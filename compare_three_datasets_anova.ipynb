{
  "nbformat": 4,
  "nbformat_minor": 0,
  "metadata": {
    "colab": {
      "provenance": [],
      "collapsed_sections": [],
      "authorship_tag": "ABX9TyNvTtdUMrir5LJwOhTGO8PR",
      "include_colab_link": true
    },
    "kernelspec": {
      "name": "python3",
      "display_name": "Python 3"
    },
    "language_info": {
      "name": "python"
    }
  },
  "cells": [
    {
      "cell_type": "markdown",
      "metadata": {
        "id": "view-in-github",
        "colab_type": "text"
      },
      "source": [
        "<a href=\"https://colab.research.google.com/github/sungkim11/compare-datasets/blob/main/compare_three_datasets_anova.ipynb\" target=\"_parent\"><img src=\"https://colab.research.google.com/assets/colab-badge.svg\" alt=\"Open In Colab\"/></a>"
      ]
    },
    {
      "cell_type": "markdown",
      "source": [
        "#Comparing Datasets: Comparing three datasets (ANOVA or ANalysis Of VAriance)"
      ],
      "metadata": {
        "id": "om7z2oJhPt4Q"
      }
    },
    {
      "cell_type": "markdown",
      "source": [
        "## 1. Prerequisities"
      ],
      "metadata": {
        "id": "QeINIap_QISN"
      }
    },
    {
      "cell_type": "markdown",
      "source": [
        "Following are prerequisite for this tutorial:\n",
        "\n",
        "- Data\n",
        "- Python Packages: pingouin, statsmodels, and scipy.stats"
      ],
      "metadata": {
        "id": "oAK3Iz8eQNmi"
      }
    },
    {
      "cell_type": "markdown",
      "source": [
        "### 1.1. Data"
      ],
      "metadata": {
        "id": "mveJTLyEQbJV"
      }
    },
    {
      "cell_type": "markdown",
      "source": [
        "The dataset used in this notebook was retrieved from kaggle (https://www.kaggle.com/datasets/wordsforthewise/lending-club) and it contains the full Lending Club data available from their site. There are two separate files for accepted and rejected loans. \n",
        "\n",
        "For the purpose of this exercise I have used 'fico_range_high' variable from the accepted dataset and 'Risk_Score' variable from the rejected dataset, which I assumed both to be derived credit score of somekind.\n",
        "\n",
        "For people who would like to understand the data in depth, here is a link of Exploratory Data Analysis (EDA) notebook of dataset here => https://www.kaggle.com/code/wordsforthewise/eda-with-python/notebook.\n",
        "\n"
      ],
      "metadata": {
        "id": "IuiuAPhMQfAT"
      }
    },
    {
      "cell_type": "markdown",
      "source": [
        "### 1.2. Python Packages"
      ],
      "metadata": {
        "id": "IQafgjAvQiUM"
      }
    },
    {
      "cell_type": "markdown",
      "source": [
        "#### 1.2.1. Install pingouin"
      ],
      "metadata": {
        "id": "louyXN7DQm_y"
      }
    },
    {
      "cell_type": "markdown",
      "source": [
        "Per pingouin's documentation, which is located here => https://pingouin-stats.org/#:\n",
        "\n",
        "Pingouin is an open-source statistical package written in Python 3 and based mostly on Pandas and NumPy. Some of its main features are listed below. For a full list of available functions, please refer to the API documentation.\n",
        "\n",
        "- ANOVAs: N-ways, repeated measures, mixed, ancova\n",
        "- Pairwise post-hocs tests (parametric and non-parametric) and pairwise correlations\n",
        "- Robust, partial, distance and repeated measures correlations\n",
        "- Linear/logistic regression and mediation analysis\n",
        "- Bayes Factors\n",
        "- Multivariate tests\n",
        "- Reliability and consistency\n",
        "- Effect sizes and power analysis\n",
        "- Parametric/bootstrapped confidence intervals around an effect size or a correlation coefficient\n",
        "- Circular statistics\n",
        "- Chi-squared tests\n",
        "- Plotting: Bland-Altman plot, Q-Q plot, paired plot, robust correlation… italicized text."
      ],
      "metadata": {
        "id": "8d0s22AcndnA"
      }
    },
    {
      "cell_type": "code",
      "source": [
        "%%writefile requirements.txt\n",
        "\n",
        "pingouin==0.5.2"
      ],
      "metadata": {
        "colab": {
          "base_uri": "https://localhost:8080/"
        },
        "id": "Tip-X3XsuHcB",
        "outputId": "7d8e21e6-1b2e-4865-f761-f500fa860944"
      },
      "execution_count": 1,
      "outputs": [
        {
          "output_type": "stream",
          "name": "stdout",
          "text": [
            "Writing requirements.txt\n"
          ]
        }
      ]
    },
    {
      "cell_type": "code",
      "source": [
        "!pip install -r requirements.txt"
      ],
      "metadata": {
        "colab": {
          "base_uri": "https://localhost:8080/"
        },
        "id": "094PTRKIuQeQ",
        "outputId": "085e49fe-c444-468e-ba13-8e9671fadec2"
      },
      "execution_count": 2,
      "outputs": [
        {
          "output_type": "stream",
          "name": "stdout",
          "text": [
            "Looking in indexes: https://pypi.org/simple, https://us-python.pkg.dev/colab-wheels/public/simple/\n",
            "Collecting pingouin==0.5.2\n",
            "  Downloading pingouin-0.5.2.tar.gz (185 kB)\n",
            "\u001b[K     |████████████████████████████████| 185 kB 5.1 MB/s \n",
            "\u001b[?25hRequirement already satisfied: numpy>=1.19 in /usr/local/lib/python3.7/dist-packages (from pingouin==0.5.2->-r requirements.txt (line 2)) (1.21.6)\n",
            "Requirement already satisfied: scipy>=1.7 in /usr/local/lib/python3.7/dist-packages (from pingouin==0.5.2->-r requirements.txt (line 2)) (1.7.3)\n",
            "Requirement already satisfied: pandas>=1.0 in /usr/local/lib/python3.7/dist-packages (from pingouin==0.5.2->-r requirements.txt (line 2)) (1.3.5)\n",
            "Requirement already satisfied: matplotlib>=3.0.2 in /usr/local/lib/python3.7/dist-packages (from pingouin==0.5.2->-r requirements.txt (line 2)) (3.2.2)\n",
            "Requirement already satisfied: seaborn>=0.11 in /usr/local/lib/python3.7/dist-packages (from pingouin==0.5.2->-r requirements.txt (line 2)) (0.11.2)\n",
            "Collecting statsmodels>=0.13\n",
            "  Downloading statsmodels-0.13.2-cp37-cp37m-manylinux_2_17_x86_64.manylinux2014_x86_64.whl (9.8 MB)\n",
            "\u001b[K     |████████████████████████████████| 9.8 MB 58.0 MB/s \n",
            "\u001b[?25hRequirement already satisfied: scikit-learn<1.1.0 in /usr/local/lib/python3.7/dist-packages (from pingouin==0.5.2->-r requirements.txt (line 2)) (1.0.2)\n",
            "Collecting pandas_flavor>=0.2.0\n",
            "  Downloading pandas_flavor-0.3.0-py3-none-any.whl (6.3 kB)\n",
            "Collecting outdated\n",
            "  Downloading outdated-0.2.1-py3-none-any.whl (7.5 kB)\n",
            "Requirement already satisfied: tabulate in /usr/local/lib/python3.7/dist-packages (from pingouin==0.5.2->-r requirements.txt (line 2)) (0.8.10)\n",
            "Requirement already satisfied: cycler>=0.10 in /usr/local/lib/python3.7/dist-packages (from matplotlib>=3.0.2->pingouin==0.5.2->-r requirements.txt (line 2)) (0.11.0)\n",
            "Requirement already satisfied: kiwisolver>=1.0.1 in /usr/local/lib/python3.7/dist-packages (from matplotlib>=3.0.2->pingouin==0.5.2->-r requirements.txt (line 2)) (1.4.4)\n",
            "Requirement already satisfied: pyparsing!=2.0.4,!=2.1.2,!=2.1.6,>=2.0.1 in /usr/local/lib/python3.7/dist-packages (from matplotlib>=3.0.2->pingouin==0.5.2->-r requirements.txt (line 2)) (3.0.9)\n",
            "Requirement already satisfied: python-dateutil>=2.1 in /usr/local/lib/python3.7/dist-packages (from matplotlib>=3.0.2->pingouin==0.5.2->-r requirements.txt (line 2)) (2.8.2)\n",
            "Requirement already satisfied: typing-extensions in /usr/local/lib/python3.7/dist-packages (from kiwisolver>=1.0.1->matplotlib>=3.0.2->pingouin==0.5.2->-r requirements.txt (line 2)) (4.1.1)\n",
            "Requirement already satisfied: pytz>=2017.3 in /usr/local/lib/python3.7/dist-packages (from pandas>=1.0->pingouin==0.5.2->-r requirements.txt (line 2)) (2022.4)\n",
            "Requirement already satisfied: xarray in /usr/local/lib/python3.7/dist-packages (from pandas_flavor>=0.2.0->pingouin==0.5.2->-r requirements.txt (line 2)) (0.20.2)\n",
            "Collecting pandas_flavor>=0.2.0\n",
            "  Downloading pandas_flavor-0.2.0-py2.py3-none-any.whl (6.6 kB)\n",
            "Requirement already satisfied: six>=1.5 in /usr/local/lib/python3.7/dist-packages (from python-dateutil>=2.1->matplotlib>=3.0.2->pingouin==0.5.2->-r requirements.txt (line 2)) (1.15.0)\n",
            "Requirement already satisfied: threadpoolctl>=2.0.0 in /usr/local/lib/python3.7/dist-packages (from scikit-learn<1.1.0->pingouin==0.5.2->-r requirements.txt (line 2)) (3.1.0)\n",
            "Requirement already satisfied: joblib>=0.11 in /usr/local/lib/python3.7/dist-packages (from scikit-learn<1.1.0->pingouin==0.5.2->-r requirements.txt (line 2)) (1.2.0)\n",
            "Requirement already satisfied: patsy>=0.5.2 in /usr/local/lib/python3.7/dist-packages (from statsmodels>=0.13->pingouin==0.5.2->-r requirements.txt (line 2)) (0.5.3)\n",
            "Requirement already satisfied: packaging>=21.3 in /usr/local/lib/python3.7/dist-packages (from statsmodels>=0.13->pingouin==0.5.2->-r requirements.txt (line 2)) (21.3)\n",
            "Collecting littleutils\n",
            "  Downloading littleutils-0.2.2.tar.gz (6.6 kB)\n",
            "Requirement already satisfied: requests in /usr/local/lib/python3.7/dist-packages (from outdated->pingouin==0.5.2->-r requirements.txt (line 2)) (2.23.0)\n",
            "Requirement already satisfied: idna<3,>=2.5 in /usr/local/lib/python3.7/dist-packages (from requests->outdated->pingouin==0.5.2->-r requirements.txt (line 2)) (2.10)\n",
            "Requirement already satisfied: certifi>=2017.4.17 in /usr/local/lib/python3.7/dist-packages (from requests->outdated->pingouin==0.5.2->-r requirements.txt (line 2)) (2022.9.24)\n",
            "Requirement already satisfied: chardet<4,>=3.0.2 in /usr/local/lib/python3.7/dist-packages (from requests->outdated->pingouin==0.5.2->-r requirements.txt (line 2)) (3.0.4)\n",
            "Requirement already satisfied: urllib3!=1.25.0,!=1.25.1,<1.26,>=1.21.1 in /usr/local/lib/python3.7/dist-packages (from requests->outdated->pingouin==0.5.2->-r requirements.txt (line 2)) (1.24.3)\n",
            "Requirement already satisfied: importlib-metadata in /usr/local/lib/python3.7/dist-packages (from xarray->pandas_flavor>=0.2.0->pingouin==0.5.2->-r requirements.txt (line 2)) (4.13.0)\n",
            "Requirement already satisfied: zipp>=0.5 in /usr/local/lib/python3.7/dist-packages (from importlib-metadata->xarray->pandas_flavor>=0.2.0->pingouin==0.5.2->-r requirements.txt (line 2)) (3.9.0)\n",
            "Building wheels for collected packages: pingouin, littleutils\n",
            "  Building wheel for pingouin (setup.py) ... \u001b[?25l\u001b[?25hdone\n",
            "  Created wheel for pingouin: filename=pingouin-0.5.2-py3-none-any.whl size=196206 sha256=2e0cacaa5ba1b11f0c7e485fc5cf195b3e8df0a18f63715f5685f69928d5e840\n",
            "  Stored in directory: /root/.cache/pip/wheels/11/5a/63/a6d32fc26fa462c731f65480bfb98ff7bd39b8ebcb4bc6c2fe\n",
            "  Building wheel for littleutils (setup.py) ... \u001b[?25l\u001b[?25hdone\n",
            "  Created wheel for littleutils: filename=littleutils-0.2.2-py3-none-any.whl size=7048 sha256=23216dd913d104c7008f630ca1a9e272c69eeadc636165549277932e3ecb8b0a\n",
            "  Stored in directory: /root/.cache/pip/wheels/d6/64/cd/32819b511a488e4993f2fab909a95330289c3f4e0f6ef4676d\n",
            "Successfully built pingouin littleutils\n",
            "Installing collected packages: littleutils, statsmodels, pandas-flavor, outdated, pingouin\n",
            "  Attempting uninstall: statsmodels\n",
            "    Found existing installation: statsmodels 0.12.2\n",
            "    Uninstalling statsmodels-0.12.2:\n",
            "      Successfully uninstalled statsmodels-0.12.2\n",
            "Successfully installed littleutils-0.2.2 outdated-0.2.1 pandas-flavor-0.2.0 pingouin-0.5.2 statsmodels-0.13.2\n"
          ]
        }
      ]
    },
    {
      "cell_type": "markdown",
      "source": [
        "## 2. Code (Three samples from same population)"
      ],
      "metadata": {
        "id": "PIxpJHKhQxX_"
      }
    },
    {
      "cell_type": "markdown",
      "source": [
        "### 2.1. Import Python Packages"
      ],
      "metadata": {
        "id": "_YXGMfZEQ4RU"
      }
    },
    {
      "cell_type": "markdown",
      "source": [
        "Import python packages and show its version. Showing version is important since it will enable other users to replicate your work using same python version and python packages version."
      ],
      "metadata": {
        "id": "_ErOb5RBQ-ck"
      }
    },
    {
      "cell_type": "code",
      "execution_count": 16,
      "metadata": {
        "id": "1ZLttzouhguZ",
        "colab": {
          "base_uri": "https://localhost:8080/"
        },
        "outputId": "961357c0-2987-4fb1-f2c5-5a054e4e6f74"
      },
      "outputs": [
        {
          "output_type": "stream",
          "name": "stdout",
          "text": [
            "Python:  3.7.15\n",
            "pandas:  1.3.5\n",
            "numpy:  1.21.6\n",
            "scipy:  1.7.3\n",
            "pingouin:  0.5.2\n",
            "statsmodels:  0.13.2\n"
          ]
        }
      ],
      "source": [
        "import pandas as pd\n",
        "import numpy as np\n",
        "import scipy\n",
        "from scipy import stats as stats\n",
        "import pingouin as pg\n",
        "import statsmodels as sm\n",
        "from statsmodels import api\n",
        "from statsmodels.formula.api import ols\n",
        "\n",
        "import platform\n",
        "\n",
        "print('Python: ', platform.python_version())\n",
        "print('pandas: ', pd.__version__)\n",
        "print('numpy: ', np.__version__)\n",
        "print('scipy: ', scipy.__version__)\n",
        "print('pingouin: ', pg.__version__)\n",
        "print('statsmodels: ', sm.__version__)"
      ]
    },
    {
      "cell_type": "markdown",
      "source": [
        "### 2.2. Mount Storage"
      ],
      "metadata": {
        "id": "cyNxL8kCRBoS"
      }
    },
    {
      "cell_type": "code",
      "source": [
        "from google.colab import drive\n",
        "drive.mount('/content/drive')"
      ],
      "metadata": {
        "colab": {
          "base_uri": "https://localhost:8080/"
        },
        "id": "EY4tX1e6h8nF",
        "outputId": "01658fd0-ae63-4aa4-dddc-7f110a33d576"
      },
      "execution_count": 4,
      "outputs": [
        {
          "output_type": "stream",
          "name": "stdout",
          "text": [
            "Mounted at /content/drive\n"
          ]
        }
      ]
    },
    {
      "cell_type": "markdown",
      "source": [
        "### 2.3. Exploratory Data Analysis"
      ],
      "metadata": {
        "id": "WoJGqPJvRHnR"
      }
    },
    {
      "cell_type": "markdown",
      "source": [
        "#### 2.3.1. Import and validate dataset"
      ],
      "metadata": {
        "id": "-azKlYzZROj7"
      }
    },
    {
      "cell_type": "code",
      "source": [
        "accepted_loans = pd.read_csv('/content/drive/MyDrive/Colab Notebooks/stats/data/accepted_2007_to_2018Q4.csv', low_memory=False)\n",
        "accepted_loans.info()"
      ],
      "metadata": {
        "id": "hF9kLcGOmVxf",
        "colab": {
          "base_uri": "https://localhost:8080/"
        },
        "outputId": "adc68561-73f4-4b32-859a-a03c558f6254"
      },
      "execution_count": 5,
      "outputs": [
        {
          "output_type": "stream",
          "name": "stdout",
          "text": [
            "<class 'pandas.core.frame.DataFrame'>\n",
            "RangeIndex: 2260701 entries, 0 to 2260700\n",
            "Columns: 151 entries, id to settlement_term\n",
            "dtypes: float64(113), object(38)\n",
            "memory usage: 2.5+ GB\n"
          ]
        }
      ]
    },
    {
      "cell_type": "markdown",
      "source": [
        "List of variables in accepted_loans dataset."
      ],
      "metadata": {
        "id": "DtMY62MTpQfA"
      }
    },
    {
      "cell_type": "code",
      "source": [
        "for col_name in accepted_loans.columns: \n",
        "    print(col_name)"
      ],
      "metadata": {
        "colab": {
          "base_uri": "https://localhost:8080/"
        },
        "id": "5XLhFPhVpz_h",
        "outputId": "0e1a0659-442d-497e-db55-1b21e4ab43d1"
      },
      "execution_count": 6,
      "outputs": [
        {
          "output_type": "stream",
          "name": "stdout",
          "text": [
            "id\n",
            "member_id\n",
            "loan_amnt\n",
            "funded_amnt\n",
            "funded_amnt_inv\n",
            "term\n",
            "int_rate\n",
            "installment\n",
            "grade\n",
            "sub_grade\n",
            "emp_title\n",
            "emp_length\n",
            "home_ownership\n",
            "annual_inc\n",
            "verification_status\n",
            "issue_d\n",
            "loan_status\n",
            "pymnt_plan\n",
            "url\n",
            "desc\n",
            "purpose\n",
            "title\n",
            "zip_code\n",
            "addr_state\n",
            "dti\n",
            "delinq_2yrs\n",
            "earliest_cr_line\n",
            "fico_range_low\n",
            "fico_range_high\n",
            "inq_last_6mths\n",
            "mths_since_last_delinq\n",
            "mths_since_last_record\n",
            "open_acc\n",
            "pub_rec\n",
            "revol_bal\n",
            "revol_util\n",
            "total_acc\n",
            "initial_list_status\n",
            "out_prncp\n",
            "out_prncp_inv\n",
            "total_pymnt\n",
            "total_pymnt_inv\n",
            "total_rec_prncp\n",
            "total_rec_int\n",
            "total_rec_late_fee\n",
            "recoveries\n",
            "collection_recovery_fee\n",
            "last_pymnt_d\n",
            "last_pymnt_amnt\n",
            "next_pymnt_d\n",
            "last_credit_pull_d\n",
            "last_fico_range_high\n",
            "last_fico_range_low\n",
            "collections_12_mths_ex_med\n",
            "mths_since_last_major_derog\n",
            "policy_code\n",
            "application_type\n",
            "annual_inc_joint\n",
            "dti_joint\n",
            "verification_status_joint\n",
            "acc_now_delinq\n",
            "tot_coll_amt\n",
            "tot_cur_bal\n",
            "open_acc_6m\n",
            "open_act_il\n",
            "open_il_12m\n",
            "open_il_24m\n",
            "mths_since_rcnt_il\n",
            "total_bal_il\n",
            "il_util\n",
            "open_rv_12m\n",
            "open_rv_24m\n",
            "max_bal_bc\n",
            "all_util\n",
            "total_rev_hi_lim\n",
            "inq_fi\n",
            "total_cu_tl\n",
            "inq_last_12m\n",
            "acc_open_past_24mths\n",
            "avg_cur_bal\n",
            "bc_open_to_buy\n",
            "bc_util\n",
            "chargeoff_within_12_mths\n",
            "delinq_amnt\n",
            "mo_sin_old_il_acct\n",
            "mo_sin_old_rev_tl_op\n",
            "mo_sin_rcnt_rev_tl_op\n",
            "mo_sin_rcnt_tl\n",
            "mort_acc\n",
            "mths_since_recent_bc\n",
            "mths_since_recent_bc_dlq\n",
            "mths_since_recent_inq\n",
            "mths_since_recent_revol_delinq\n",
            "num_accts_ever_120_pd\n",
            "num_actv_bc_tl\n",
            "num_actv_rev_tl\n",
            "num_bc_sats\n",
            "num_bc_tl\n",
            "num_il_tl\n",
            "num_op_rev_tl\n",
            "num_rev_accts\n",
            "num_rev_tl_bal_gt_0\n",
            "num_sats\n",
            "num_tl_120dpd_2m\n",
            "num_tl_30dpd\n",
            "num_tl_90g_dpd_24m\n",
            "num_tl_op_past_12m\n",
            "pct_tl_nvr_dlq\n",
            "percent_bc_gt_75\n",
            "pub_rec_bankruptcies\n",
            "tax_liens\n",
            "tot_hi_cred_lim\n",
            "total_bal_ex_mort\n",
            "total_bc_limit\n",
            "total_il_high_credit_limit\n",
            "revol_bal_joint\n",
            "sec_app_fico_range_low\n",
            "sec_app_fico_range_high\n",
            "sec_app_earliest_cr_line\n",
            "sec_app_inq_last_6mths\n",
            "sec_app_mort_acc\n",
            "sec_app_open_acc\n",
            "sec_app_revol_util\n",
            "sec_app_open_act_il\n",
            "sec_app_num_rev_accts\n",
            "sec_app_chargeoff_within_12_mths\n",
            "sec_app_collections_12_mths_ex_med\n",
            "sec_app_mths_since_last_major_derog\n",
            "hardship_flag\n",
            "hardship_type\n",
            "hardship_reason\n",
            "hardship_status\n",
            "deferral_term\n",
            "hardship_amount\n",
            "hardship_start_date\n",
            "hardship_end_date\n",
            "payment_plan_start_date\n",
            "hardship_length\n",
            "hardship_dpd\n",
            "hardship_loan_status\n",
            "orig_projected_additional_accrued_interest\n",
            "hardship_payoff_balance_amount\n",
            "hardship_last_payment_amount\n",
            "disbursement_method\n",
            "debt_settlement_flag\n",
            "debt_settlement_flag_date\n",
            "settlement_status\n",
            "settlement_date\n",
            "settlement_amount\n",
            "settlement_percentage\n",
            "settlement_term\n"
          ]
        }
      ]
    },
    {
      "cell_type": "markdown",
      "source": [
        "#### 2.3.2. Cleanse Dataset"
      ],
      "metadata": {
        "id": "M-tiwEtmRg66"
      }
    },
    {
      "cell_type": "markdown",
      "source": [
        "Drop all obs where either 'fico_range_low' variable or 'fico_range_high' variable is null."
      ],
      "metadata": {
        "id": "8yaWWJmiphkP"
      }
    },
    {
      "cell_type": "code",
      "source": [
        "accepted_loans = accepted_loans.dropna(subset=['fico_range_high', 'fico_range_low'])\n",
        "accepted_loans.info()"
      ],
      "metadata": {
        "id": "B5zyjJSsExZI",
        "colab": {
          "base_uri": "https://localhost:8080/"
        },
        "outputId": "9a475878-3be5-4513-fd0b-e7ee9021deca"
      },
      "execution_count": 7,
      "outputs": [
        {
          "output_type": "stream",
          "name": "stdout",
          "text": [
            "<class 'pandas.core.frame.DataFrame'>\n",
            "Int64Index: 2260668 entries, 0 to 2260698\n",
            "Columns: 151 entries, id to settlement_term\n",
            "dtypes: float64(113), object(38)\n",
            "memory usage: 2.6+ GB\n"
          ]
        }
      ]
    },
    {
      "cell_type": "markdown",
      "source": [
        "#### 2.3.3. Downsample Dataset"
      ],
      "metadata": {
        "id": "9dyR22KLRl2F"
      }
    },
    {
      "cell_type": "markdown",
      "source": [
        "We do not need a such big dataset and Google colab complains about running out of memory, downsampled the dataset size to 60,000 obs."
      ],
      "metadata": {
        "id": "gbOm2uSlR4lZ"
      }
    },
    {
      "cell_type": "code",
      "source": [
        "accepted_loans = accepted_loans.sample(n=60000)\n",
        "accepted_loans.info()"
      ],
      "metadata": {
        "id": "TM_jtdrUvvDd",
        "colab": {
          "base_uri": "https://localhost:8080/"
        },
        "outputId": "d71cb687-c509-4a76-9ed2-d297c579cfa8"
      },
      "execution_count": 8,
      "outputs": [
        {
          "output_type": "stream",
          "name": "stdout",
          "text": [
            "<class 'pandas.core.frame.DataFrame'>\n",
            "Int64Index: 60000 entries, 140014 to 729857\n",
            "Columns: 151 entries, id to settlement_term\n",
            "dtypes: float64(113), object(38)\n",
            "memory usage: 69.6+ MB\n"
          ]
        }
      ]
    },
    {
      "cell_type": "markdown",
      "source": [
        "#### 2.3.4. Split Dataset"
      ],
      "metadata": {
        "id": "GHBaRUJxR0wI"
      }
    },
    {
      "cell_type": "markdown",
      "source": [
        "Split the dataset into three datasets to illustrate comparing three datasets with similiar values."
      ],
      "metadata": {
        "id": "DVTvwCqqp4lA"
      }
    },
    {
      "cell_type": "code",
      "source": [
        "accepted_loans_1s, accepted_loans_2s, accepted_loans_3s = np.array_split(accepted_loans, 3)\n",
        "accepted_loans_1s.info()\n",
        "accepted_loans_2s.info()\n",
        "accepted_loans_3s.info()"
      ],
      "metadata": {
        "id": "vAdU-EgoCPsO",
        "colab": {
          "base_uri": "https://localhost:8080/"
        },
        "outputId": "6b4aec78-2fc1-40b7-de80-c49bf8f57f4e"
      },
      "execution_count": 9,
      "outputs": [
        {
          "output_type": "stream",
          "name": "stdout",
          "text": [
            "<class 'pandas.core.frame.DataFrame'>\n",
            "Int64Index: 20000 entries, 140014 to 120780\n",
            "Columns: 151 entries, id to settlement_term\n",
            "dtypes: float64(113), object(38)\n",
            "memory usage: 23.2+ MB\n",
            "<class 'pandas.core.frame.DataFrame'>\n",
            "Int64Index: 20000 entries, 2113278 to 95545\n",
            "Columns: 151 entries, id to settlement_term\n",
            "dtypes: float64(113), object(38)\n",
            "memory usage: 23.2+ MB\n",
            "<class 'pandas.core.frame.DataFrame'>\n",
            "Int64Index: 20000 entries, 583171 to 729857\n",
            "Columns: 151 entries, id to settlement_term\n",
            "dtypes: float64(113), object(38)\n",
            "memory usage: 23.2+ MB\n"
          ]
        }
      ]
    },
    {
      "cell_type": "code",
      "source": [
        "accepted_loans_1s.insert(loc=1, column='dataset', value=1, allow_duplicates=True)\n",
        "accepted_loans_2s.insert(loc=1, column='dataset', value=2, allow_duplicates=True)\n",
        "accepted_loans_3s.insert(loc=1, column='dataset', value=3, allow_duplicates=True)\n",
        "\n",
        "accepted_loans_s = pd.concat([accepted_loans_1s, accepted_loans_2s, accepted_loans_3s])\n",
        "accepted_loans_s[['id', 'dataset']].groupby('dataset').count()"
      ],
      "metadata": {
        "id": "CC59KQGLFWhZ",
        "colab": {
          "base_uri": "https://localhost:8080/",
          "height": 175
        },
        "outputId": "d4761e55-2473-497c-ca01-afab440534db"
      },
      "execution_count": 10,
      "outputs": [
        {
          "output_type": "execute_result",
          "data": {
            "text/plain": [
              "            id\n",
              "dataset       \n",
              "1        20000\n",
              "2        20000\n",
              "3        20000"
            ],
            "text/html": [
              "\n",
              "  <div id=\"df-a7f529d5-2e9e-4b72-b7f7-4234b11f531a\">\n",
              "    <div class=\"colab-df-container\">\n",
              "      <div>\n",
              "<style scoped>\n",
              "    .dataframe tbody tr th:only-of-type {\n",
              "        vertical-align: middle;\n",
              "    }\n",
              "\n",
              "    .dataframe tbody tr th {\n",
              "        vertical-align: top;\n",
              "    }\n",
              "\n",
              "    .dataframe thead th {\n",
              "        text-align: right;\n",
              "    }\n",
              "</style>\n",
              "<table border=\"1\" class=\"dataframe\">\n",
              "  <thead>\n",
              "    <tr style=\"text-align: right;\">\n",
              "      <th></th>\n",
              "      <th>id</th>\n",
              "    </tr>\n",
              "    <tr>\n",
              "      <th>dataset</th>\n",
              "      <th></th>\n",
              "    </tr>\n",
              "  </thead>\n",
              "  <tbody>\n",
              "    <tr>\n",
              "      <th>1</th>\n",
              "      <td>20000</td>\n",
              "    </tr>\n",
              "    <tr>\n",
              "      <th>2</th>\n",
              "      <td>20000</td>\n",
              "    </tr>\n",
              "    <tr>\n",
              "      <th>3</th>\n",
              "      <td>20000</td>\n",
              "    </tr>\n",
              "  </tbody>\n",
              "</table>\n",
              "</div>\n",
              "      <button class=\"colab-df-convert\" onclick=\"convertToInteractive('df-a7f529d5-2e9e-4b72-b7f7-4234b11f531a')\"\n",
              "              title=\"Convert this dataframe to an interactive table.\"\n",
              "              style=\"display:none;\">\n",
              "        \n",
              "  <svg xmlns=\"http://www.w3.org/2000/svg\" height=\"24px\"viewBox=\"0 0 24 24\"\n",
              "       width=\"24px\">\n",
              "    <path d=\"M0 0h24v24H0V0z\" fill=\"none\"/>\n",
              "    <path d=\"M18.56 5.44l.94 2.06.94-2.06 2.06-.94-2.06-.94-.94-2.06-.94 2.06-2.06.94zm-11 1L8.5 8.5l.94-2.06 2.06-.94-2.06-.94L8.5 2.5l-.94 2.06-2.06.94zm10 10l.94 2.06.94-2.06 2.06-.94-2.06-.94-.94-2.06-.94 2.06-2.06.94z\"/><path d=\"M17.41 7.96l-1.37-1.37c-.4-.4-.92-.59-1.43-.59-.52 0-1.04.2-1.43.59L10.3 9.45l-7.72 7.72c-.78.78-.78 2.05 0 2.83L4 21.41c.39.39.9.59 1.41.59.51 0 1.02-.2 1.41-.59l7.78-7.78 2.81-2.81c.8-.78.8-2.07 0-2.86zM5.41 20L4 18.59l7.72-7.72 1.47 1.35L5.41 20z\"/>\n",
              "  </svg>\n",
              "      </button>\n",
              "      \n",
              "  <style>\n",
              "    .colab-df-container {\n",
              "      display:flex;\n",
              "      flex-wrap:wrap;\n",
              "      gap: 12px;\n",
              "    }\n",
              "\n",
              "    .colab-df-convert {\n",
              "      background-color: #E8F0FE;\n",
              "      border: none;\n",
              "      border-radius: 50%;\n",
              "      cursor: pointer;\n",
              "      display: none;\n",
              "      fill: #1967D2;\n",
              "      height: 32px;\n",
              "      padding: 0 0 0 0;\n",
              "      width: 32px;\n",
              "    }\n",
              "\n",
              "    .colab-df-convert:hover {\n",
              "      background-color: #E2EBFA;\n",
              "      box-shadow: 0px 1px 2px rgba(60, 64, 67, 0.3), 0px 1px 3px 1px rgba(60, 64, 67, 0.15);\n",
              "      fill: #174EA6;\n",
              "    }\n",
              "\n",
              "    [theme=dark] .colab-df-convert {\n",
              "      background-color: #3B4455;\n",
              "      fill: #D2E3FC;\n",
              "    }\n",
              "\n",
              "    [theme=dark] .colab-df-convert:hover {\n",
              "      background-color: #434B5C;\n",
              "      box-shadow: 0px 1px 3px 1px rgba(0, 0, 0, 0.15);\n",
              "      filter: drop-shadow(0px 1px 2px rgba(0, 0, 0, 0.3));\n",
              "      fill: #FFFFFF;\n",
              "    }\n",
              "  </style>\n",
              "\n",
              "      <script>\n",
              "        const buttonEl =\n",
              "          document.querySelector('#df-a7f529d5-2e9e-4b72-b7f7-4234b11f531a button.colab-df-convert');\n",
              "        buttonEl.style.display =\n",
              "          google.colab.kernel.accessAllowed ? 'block' : 'none';\n",
              "\n",
              "        async function convertToInteractive(key) {\n",
              "          const element = document.querySelector('#df-a7f529d5-2e9e-4b72-b7f7-4234b11f531a');\n",
              "          const dataTable =\n",
              "            await google.colab.kernel.invokeFunction('convertToInteractive',\n",
              "                                                     [key], {});\n",
              "          if (!dataTable) return;\n",
              "\n",
              "          const docLinkHtml = 'Like what you see? Visit the ' +\n",
              "            '<a target=\"_blank\" href=https://colab.research.google.com/notebooks/data_table.ipynb>data table notebook</a>'\n",
              "            + ' to learn more about interactive tables.';\n",
              "          element.innerHTML = '';\n",
              "          dataTable['output_type'] = 'display_data';\n",
              "          await google.colab.output.renderOutput(dataTable, element);\n",
              "          const docLink = document.createElement('div');\n",
              "          docLink.innerHTML = docLinkHtml;\n",
              "          element.appendChild(docLink);\n",
              "        }\n",
              "      </script>\n",
              "    </div>\n",
              "  </div>\n",
              "  "
            ]
          },
          "metadata": {},
          "execution_count": 10
        }
      ]
    },
    {
      "cell_type": "markdown",
      "source": [
        "### 2.4. One-way ANOVA using pingouin"
      ],
      "metadata": {
        "id": "yxKcjO8OwY_4"
      }
    },
    {
      "cell_type": "code",
      "source": [
        "aov = pg.anova(dv='fico_range_high', between='dataset', data=accepted_loans_s, detailed=True)"
      ],
      "metadata": {
        "id": "SUdb-c5UlSAN"
      },
      "execution_count": 11,
      "outputs": []
    },
    {
      "cell_type": "code",
      "source": [
        "aov.round(3)"
      ],
      "metadata": {
        "colab": {
          "base_uri": "https://localhost:8080/",
          "height": 112
        },
        "id": "QrqMMcm9G_bD",
        "outputId": "30778a60-9273-4530-f446-434947571d85"
      },
      "execution_count": 12,
      "outputs": [
        {
          "output_type": "execute_result",
          "data": {
            "text/plain": [
              "    Source            SS     DF        MS      F  p-unc  np2\n",
              "0  dataset  7.923780e+02      2   396.189  0.364  0.695  0.0\n",
              "1   Within  6.522043e+07  59997  1087.061    NaN    NaN  NaN"
            ],
            "text/html": [
              "\n",
              "  <div id=\"df-a6fd54a0-cb31-4f43-ba62-eae38ae24991\">\n",
              "    <div class=\"colab-df-container\">\n",
              "      <div>\n",
              "<style scoped>\n",
              "    .dataframe tbody tr th:only-of-type {\n",
              "        vertical-align: middle;\n",
              "    }\n",
              "\n",
              "    .dataframe tbody tr th {\n",
              "        vertical-align: top;\n",
              "    }\n",
              "\n",
              "    .dataframe thead th {\n",
              "        text-align: right;\n",
              "    }\n",
              "</style>\n",
              "<table border=\"1\" class=\"dataframe\">\n",
              "  <thead>\n",
              "    <tr style=\"text-align: right;\">\n",
              "      <th></th>\n",
              "      <th>Source</th>\n",
              "      <th>SS</th>\n",
              "      <th>DF</th>\n",
              "      <th>MS</th>\n",
              "      <th>F</th>\n",
              "      <th>p-unc</th>\n",
              "      <th>np2</th>\n",
              "    </tr>\n",
              "  </thead>\n",
              "  <tbody>\n",
              "    <tr>\n",
              "      <th>0</th>\n",
              "      <td>dataset</td>\n",
              "      <td>7.923780e+02</td>\n",
              "      <td>2</td>\n",
              "      <td>396.189</td>\n",
              "      <td>0.364</td>\n",
              "      <td>0.695</td>\n",
              "      <td>0.0</td>\n",
              "    </tr>\n",
              "    <tr>\n",
              "      <th>1</th>\n",
              "      <td>Within</td>\n",
              "      <td>6.522043e+07</td>\n",
              "      <td>59997</td>\n",
              "      <td>1087.061</td>\n",
              "      <td>NaN</td>\n",
              "      <td>NaN</td>\n",
              "      <td>NaN</td>\n",
              "    </tr>\n",
              "  </tbody>\n",
              "</table>\n",
              "</div>\n",
              "      <button class=\"colab-df-convert\" onclick=\"convertToInteractive('df-a6fd54a0-cb31-4f43-ba62-eae38ae24991')\"\n",
              "              title=\"Convert this dataframe to an interactive table.\"\n",
              "              style=\"display:none;\">\n",
              "        \n",
              "  <svg xmlns=\"http://www.w3.org/2000/svg\" height=\"24px\"viewBox=\"0 0 24 24\"\n",
              "       width=\"24px\">\n",
              "    <path d=\"M0 0h24v24H0V0z\" fill=\"none\"/>\n",
              "    <path d=\"M18.56 5.44l.94 2.06.94-2.06 2.06-.94-2.06-.94-.94-2.06-.94 2.06-2.06.94zm-11 1L8.5 8.5l.94-2.06 2.06-.94-2.06-.94L8.5 2.5l-.94 2.06-2.06.94zm10 10l.94 2.06.94-2.06 2.06-.94-2.06-.94-.94-2.06-.94 2.06-2.06.94z\"/><path d=\"M17.41 7.96l-1.37-1.37c-.4-.4-.92-.59-1.43-.59-.52 0-1.04.2-1.43.59L10.3 9.45l-7.72 7.72c-.78.78-.78 2.05 0 2.83L4 21.41c.39.39.9.59 1.41.59.51 0 1.02-.2 1.41-.59l7.78-7.78 2.81-2.81c.8-.78.8-2.07 0-2.86zM5.41 20L4 18.59l7.72-7.72 1.47 1.35L5.41 20z\"/>\n",
              "  </svg>\n",
              "      </button>\n",
              "      \n",
              "  <style>\n",
              "    .colab-df-container {\n",
              "      display:flex;\n",
              "      flex-wrap:wrap;\n",
              "      gap: 12px;\n",
              "    }\n",
              "\n",
              "    .colab-df-convert {\n",
              "      background-color: #E8F0FE;\n",
              "      border: none;\n",
              "      border-radius: 50%;\n",
              "      cursor: pointer;\n",
              "      display: none;\n",
              "      fill: #1967D2;\n",
              "      height: 32px;\n",
              "      padding: 0 0 0 0;\n",
              "      width: 32px;\n",
              "    }\n",
              "\n",
              "    .colab-df-convert:hover {\n",
              "      background-color: #E2EBFA;\n",
              "      box-shadow: 0px 1px 2px rgba(60, 64, 67, 0.3), 0px 1px 3px 1px rgba(60, 64, 67, 0.15);\n",
              "      fill: #174EA6;\n",
              "    }\n",
              "\n",
              "    [theme=dark] .colab-df-convert {\n",
              "      background-color: #3B4455;\n",
              "      fill: #D2E3FC;\n",
              "    }\n",
              "\n",
              "    [theme=dark] .colab-df-convert:hover {\n",
              "      background-color: #434B5C;\n",
              "      box-shadow: 0px 1px 3px 1px rgba(0, 0, 0, 0.15);\n",
              "      filter: drop-shadow(0px 1px 2px rgba(0, 0, 0, 0.3));\n",
              "      fill: #FFFFFF;\n",
              "    }\n",
              "  </style>\n",
              "\n",
              "      <script>\n",
              "        const buttonEl =\n",
              "          document.querySelector('#df-a6fd54a0-cb31-4f43-ba62-eae38ae24991 button.colab-df-convert');\n",
              "        buttonEl.style.display =\n",
              "          google.colab.kernel.accessAllowed ? 'block' : 'none';\n",
              "\n",
              "        async function convertToInteractive(key) {\n",
              "          const element = document.querySelector('#df-a6fd54a0-cb31-4f43-ba62-eae38ae24991');\n",
              "          const dataTable =\n",
              "            await google.colab.kernel.invokeFunction('convertToInteractive',\n",
              "                                                     [key], {});\n",
              "          if (!dataTable) return;\n",
              "\n",
              "          const docLinkHtml = 'Like what you see? Visit the ' +\n",
              "            '<a target=\"_blank\" href=https://colab.research.google.com/notebooks/data_table.ipynb>data table notebook</a>'\n",
              "            + ' to learn more about interactive tables.';\n",
              "          element.innerHTML = '';\n",
              "          dataTable['output_type'] = 'display_data';\n",
              "          await google.colab.output.renderOutput(dataTable, element);\n",
              "          const docLink = document.createElement('div');\n",
              "          docLink.innerHTML = docLinkHtml;\n",
              "          element.appendChild(docLink);\n",
              "        }\n",
              "      </script>\n",
              "    </div>\n",
              "  </div>\n",
              "  "
            ]
          },
          "metadata": {},
          "execution_count": 12
        }
      ]
    },
    {
      "cell_type": "markdown",
      "source": [
        "We are considering whether the three samples were drawn from the same population or different populations.\n",
        "\n",
        "The p-value quantifies the probability of observing as or more extreme values assuming the null hypothesis, that the samples are drawn from populations with the same population means, is true.\n",
        "\n",
        "Since the 'p value' is greater than 0.05 indicates that the differences are insignificant and our observation is not so unlikely to have occurred by chance. Therefore, we do not reject the null hypothesis of equal population means. This makes sense since the three samples are split from one dataset."
      ],
      "metadata": {
        "id": "lBbGc2Qjo297"
      }
    },
    {
      "cell_type": "markdown",
      "source": [
        "### 2.5. One-way ANOVA using scipy.stats"
      ],
      "metadata": {
        "id": "N4kXioyMyRrA"
      }
    },
    {
      "cell_type": "code",
      "source": [
        "F, p = stats.f_oneway(accepted_loans_1s['fico_range_high'], accepted_loans_2s['fico_range_high'], accepted_loans_3s['fico_range_high'])\n",
        "F, p"
      ],
      "metadata": {
        "colab": {
          "base_uri": "https://localhost:8080/"
        },
        "id": "zQeUWqAmtSJ1",
        "outputId": "dd963563-a227-4e94-dd83-7819e8818942"
      },
      "execution_count": 13,
      "outputs": [
        {
          "output_type": "execute_result",
          "data": {
            "text/plain": [
              "(0.364458883419413, 0.6945739315676781)"
            ]
          },
          "metadata": {},
          "execution_count": 13
        }
      ]
    },
    {
      "cell_type": "markdown",
      "source": [
        "We are considering whether the three samples were drawn from the same population or different populations.\n",
        "\n",
        "The p-value quantifies the probability of observing as or more extreme values assuming the null hypothesis, that the samples are drawn from populations with the same population means, is true.\n",
        "\n",
        "Since the 'p value' is greater than 0.05 indicates that the differences are insignificant and our observation is not so unlikely to have occurred by chance. Therefore, we do not reject the null hypothesis of equal population means. This makes sense since the three samples are split from one dataset."
      ],
      "metadata": {
        "id": "L-gbbUHHqZcM"
      }
    },
    {
      "cell_type": "markdown",
      "source": [
        "### 2.6. One-way ANOVA using statsmodels"
      ],
      "metadata": {
        "id": "3E1Xp3CVjvfV"
      }
    },
    {
      "cell_type": "code",
      "source": [
        "mod = ols('fico_range_high ~ C(dataset)', data=accepted_loans_s).fit()"
      ],
      "metadata": {
        "id": "zU2hvZ3ckAYx"
      },
      "execution_count": 14,
      "outputs": []
    },
    {
      "cell_type": "code",
      "source": [
        "aov_table = api.stats.anova_lm(mod, typ=2)\n",
        "aov_table"
      ],
      "metadata": {
        "colab": {
          "base_uri": "https://localhost:8080/",
          "height": 112
        },
        "id": "hQ_GUOlLkMAH",
        "outputId": "ee71765e-1329-4f11-cfaf-6750ae0939dd"
      },
      "execution_count": 17,
      "outputs": [
        {
          "output_type": "execute_result",
          "data": {
            "text/plain": [
              "                  sum_sq       df         F    PR(>F)\n",
              "C(dataset)  7.923784e+02      2.0  0.364459  0.694574\n",
              "Residual    6.522043e+07  59997.0       NaN       NaN"
            ],
            "text/html": [
              "\n",
              "  <div id=\"df-7844f1cb-1fc9-4132-84ab-46520312fd52\">\n",
              "    <div class=\"colab-df-container\">\n",
              "      <div>\n",
              "<style scoped>\n",
              "    .dataframe tbody tr th:only-of-type {\n",
              "        vertical-align: middle;\n",
              "    }\n",
              "\n",
              "    .dataframe tbody tr th {\n",
              "        vertical-align: top;\n",
              "    }\n",
              "\n",
              "    .dataframe thead th {\n",
              "        text-align: right;\n",
              "    }\n",
              "</style>\n",
              "<table border=\"1\" class=\"dataframe\">\n",
              "  <thead>\n",
              "    <tr style=\"text-align: right;\">\n",
              "      <th></th>\n",
              "      <th>sum_sq</th>\n",
              "      <th>df</th>\n",
              "      <th>F</th>\n",
              "      <th>PR(&gt;F)</th>\n",
              "    </tr>\n",
              "  </thead>\n",
              "  <tbody>\n",
              "    <tr>\n",
              "      <th>C(dataset)</th>\n",
              "      <td>7.923784e+02</td>\n",
              "      <td>2.0</td>\n",
              "      <td>0.364459</td>\n",
              "      <td>0.694574</td>\n",
              "    </tr>\n",
              "    <tr>\n",
              "      <th>Residual</th>\n",
              "      <td>6.522043e+07</td>\n",
              "      <td>59997.0</td>\n",
              "      <td>NaN</td>\n",
              "      <td>NaN</td>\n",
              "    </tr>\n",
              "  </tbody>\n",
              "</table>\n",
              "</div>\n",
              "      <button class=\"colab-df-convert\" onclick=\"convertToInteractive('df-7844f1cb-1fc9-4132-84ab-46520312fd52')\"\n",
              "              title=\"Convert this dataframe to an interactive table.\"\n",
              "              style=\"display:none;\">\n",
              "        \n",
              "  <svg xmlns=\"http://www.w3.org/2000/svg\" height=\"24px\"viewBox=\"0 0 24 24\"\n",
              "       width=\"24px\">\n",
              "    <path d=\"M0 0h24v24H0V0z\" fill=\"none\"/>\n",
              "    <path d=\"M18.56 5.44l.94 2.06.94-2.06 2.06-.94-2.06-.94-.94-2.06-.94 2.06-2.06.94zm-11 1L8.5 8.5l.94-2.06 2.06-.94-2.06-.94L8.5 2.5l-.94 2.06-2.06.94zm10 10l.94 2.06.94-2.06 2.06-.94-2.06-.94-.94-2.06-.94 2.06-2.06.94z\"/><path d=\"M17.41 7.96l-1.37-1.37c-.4-.4-.92-.59-1.43-.59-.52 0-1.04.2-1.43.59L10.3 9.45l-7.72 7.72c-.78.78-.78 2.05 0 2.83L4 21.41c.39.39.9.59 1.41.59.51 0 1.02-.2 1.41-.59l7.78-7.78 2.81-2.81c.8-.78.8-2.07 0-2.86zM5.41 20L4 18.59l7.72-7.72 1.47 1.35L5.41 20z\"/>\n",
              "  </svg>\n",
              "      </button>\n",
              "      \n",
              "  <style>\n",
              "    .colab-df-container {\n",
              "      display:flex;\n",
              "      flex-wrap:wrap;\n",
              "      gap: 12px;\n",
              "    }\n",
              "\n",
              "    .colab-df-convert {\n",
              "      background-color: #E8F0FE;\n",
              "      border: none;\n",
              "      border-radius: 50%;\n",
              "      cursor: pointer;\n",
              "      display: none;\n",
              "      fill: #1967D2;\n",
              "      height: 32px;\n",
              "      padding: 0 0 0 0;\n",
              "      width: 32px;\n",
              "    }\n",
              "\n",
              "    .colab-df-convert:hover {\n",
              "      background-color: #E2EBFA;\n",
              "      box-shadow: 0px 1px 2px rgba(60, 64, 67, 0.3), 0px 1px 3px 1px rgba(60, 64, 67, 0.15);\n",
              "      fill: #174EA6;\n",
              "    }\n",
              "\n",
              "    [theme=dark] .colab-df-convert {\n",
              "      background-color: #3B4455;\n",
              "      fill: #D2E3FC;\n",
              "    }\n",
              "\n",
              "    [theme=dark] .colab-df-convert:hover {\n",
              "      background-color: #434B5C;\n",
              "      box-shadow: 0px 1px 3px 1px rgba(0, 0, 0, 0.15);\n",
              "      filter: drop-shadow(0px 1px 2px rgba(0, 0, 0, 0.3));\n",
              "      fill: #FFFFFF;\n",
              "    }\n",
              "  </style>\n",
              "\n",
              "      <script>\n",
              "        const buttonEl =\n",
              "          document.querySelector('#df-7844f1cb-1fc9-4132-84ab-46520312fd52 button.colab-df-convert');\n",
              "        buttonEl.style.display =\n",
              "          google.colab.kernel.accessAllowed ? 'block' : 'none';\n",
              "\n",
              "        async function convertToInteractive(key) {\n",
              "          const element = document.querySelector('#df-7844f1cb-1fc9-4132-84ab-46520312fd52');\n",
              "          const dataTable =\n",
              "            await google.colab.kernel.invokeFunction('convertToInteractive',\n",
              "                                                     [key], {});\n",
              "          if (!dataTable) return;\n",
              "\n",
              "          const docLinkHtml = 'Like what you see? Visit the ' +\n",
              "            '<a target=\"_blank\" href=https://colab.research.google.com/notebooks/data_table.ipynb>data table notebook</a>'\n",
              "            + ' to learn more about interactive tables.';\n",
              "          element.innerHTML = '';\n",
              "          dataTable['output_type'] = 'display_data';\n",
              "          await google.colab.output.renderOutput(dataTable, element);\n",
              "          const docLink = document.createElement('div');\n",
              "          docLink.innerHTML = docLinkHtml;\n",
              "          element.appendChild(docLink);\n",
              "        }\n",
              "      </script>\n",
              "    </div>\n",
              "  </div>\n",
              "  "
            ]
          },
          "metadata": {},
          "execution_count": 17
        }
      ]
    },
    {
      "cell_type": "markdown",
      "source": [
        "We are considering whether the three samples were drawn from the same population or different populations.\n",
        "\n",
        "The p-value quantifies the probability of observing as or more extreme values assuming the null hypothesis, that the samples are drawn from populations with the same population means, is true.\n",
        "\n",
        "Since the 'p value' is greater than 0.05 indicates that the differences are insignificant and our observation is not so unlikely to have occurred by chance. Therefore, we do not reject the null hypothesis of equal population means. This makes sense since the three samples are split from one dataset."
      ],
      "metadata": {
        "id": "RORLYXk6qZ9x"
      }
    },
    {
      "cell_type": "markdown",
      "source": [
        "## 3. Code (Three samples from different population)"
      ],
      "metadata": {
        "id": "dTlKJRWpwqxL"
      }
    },
    {
      "cell_type": "markdown",
      "source": [
        "### 3.1. Exploratory Data Analysis"
      ],
      "metadata": {
        "id": "FhleJ75NyN7w"
      }
    },
    {
      "cell_type": "markdown",
      "source": [
        "#### 3.1.1. Import and validate dataset"
      ],
      "metadata": {
        "id": "eecMQtHoyUoO"
      }
    },
    {
      "cell_type": "code",
      "source": [
        "rejected_loans = pd.read_csv('/content/drive/MyDrive/Colab Notebooks/stats/data/rejected_2007_to_2018Q4.csv', low_memory=False)\n",
        "rejected_loans.info()"
      ],
      "metadata": {
        "id": "7cAG2ssSfVPb",
        "colab": {
          "base_uri": "https://localhost:8080/"
        },
        "outputId": "b0169999-fda0-44f3-d2d7-447cd2ede56b"
      },
      "execution_count": 18,
      "outputs": [
        {
          "output_type": "stream",
          "name": "stdout",
          "text": [
            "<class 'pandas.core.frame.DataFrame'>\n",
            "RangeIndex: 27648741 entries, 0 to 27648740\n",
            "Data columns (total 9 columns):\n",
            " #   Column                Dtype  \n",
            "---  ------                -----  \n",
            " 0   Amount Requested      float64\n",
            " 1   Application Date      object \n",
            " 2   Loan Title            object \n",
            " 3   Risk_Score            float64\n",
            " 4   Debt-To-Income Ratio  object \n",
            " 5   Zip Code              object \n",
            " 6   State                 object \n",
            " 7   Employment Length     object \n",
            " 8   Policy Code           float64\n",
            "dtypes: float64(3), object(6)\n",
            "memory usage: 1.9+ GB\n"
          ]
        }
      ]
    },
    {
      "cell_type": "markdown",
      "source": [
        "#### 3.1.2. Cleanse Dataset"
      ],
      "metadata": {
        "id": "iptDbzQCyeV4"
      }
    },
    {
      "cell_type": "markdown",
      "source": [
        "Drop all obs where 'Risk_Score' variable is null."
      ],
      "metadata": {
        "id": "EC0BQOb8y0n1"
      }
    },
    {
      "cell_type": "code",
      "source": [
        "rejected_loans = rejected_loans.dropna(subset=['Risk_Score'])\n",
        "rejected_loans.info()"
      ],
      "metadata": {
        "id": "MeO04iNlxZuD",
        "colab": {
          "base_uri": "https://localhost:8080/"
        },
        "outputId": "58e22f7d-080f-4912-a0f5-9b6fad2d5d46"
      },
      "execution_count": 19,
      "outputs": [
        {
          "output_type": "stream",
          "name": "stdout",
          "text": [
            "<class 'pandas.core.frame.DataFrame'>\n",
            "Int64Index: 9151111 entries, 0 to 27648740\n",
            "Data columns (total 9 columns):\n",
            " #   Column                Dtype  \n",
            "---  ------                -----  \n",
            " 0   Amount Requested      float64\n",
            " 1   Application Date      object \n",
            " 2   Loan Title            object \n",
            " 3   Risk_Score            float64\n",
            " 4   Debt-To-Income Ratio  object \n",
            " 5   Zip Code              object \n",
            " 6   State                 object \n",
            " 7   Employment Length     object \n",
            " 8   Policy Code           float64\n",
            "dtypes: float64(3), object(6)\n",
            "memory usage: 698.2+ MB\n"
          ]
        }
      ]
    },
    {
      "cell_type": "markdown",
      "source": [
        "#### 3.1.3. Downsample Dataset"
      ],
      "metadata": {
        "id": "m2ov6F-JymsF"
      }
    },
    {
      "cell_type": "markdown",
      "source": [
        "We only need to replace one dataset, the dataset downsampled to 20,000 obs."
      ],
      "metadata": {
        "id": "NsvJ-vfuy7Wx"
      }
    },
    {
      "cell_type": "code",
      "source": [
        "rejected_loans = rejected_loans.sample(n=20000)\n",
        "rejected_loans.info()"
      ],
      "metadata": {
        "id": "ucd2Ab_7OUFK",
        "colab": {
          "base_uri": "https://localhost:8080/"
        },
        "outputId": "71191393-e99f-4fc2-fb0c-35b6af70b82d"
      },
      "execution_count": 20,
      "outputs": [
        {
          "output_type": "stream",
          "name": "stdout",
          "text": [
            "<class 'pandas.core.frame.DataFrame'>\n",
            "Int64Index: 20000 entries, 591783 to 25664822\n",
            "Data columns (total 9 columns):\n",
            " #   Column                Non-Null Count  Dtype  \n",
            "---  ------                --------------  -----  \n",
            " 0   Amount Requested      20000 non-null  float64\n",
            " 1   Application Date      20000 non-null  object \n",
            " 2   Loan Title            20000 non-null  object \n",
            " 3   Risk_Score            20000 non-null  float64\n",
            " 4   Debt-To-Income Ratio  20000 non-null  object \n",
            " 5   Zip Code              20000 non-null  object \n",
            " 6   State                 20000 non-null  object \n",
            " 7   Employment Length     19671 non-null  object \n",
            " 8   Policy Code           20000 non-null  float64\n",
            "dtypes: float64(3), object(6)\n",
            "memory usage: 1.5+ MB\n"
          ]
        }
      ]
    },
    {
      "cell_type": "markdown",
      "source": [
        "#### 3.1.4. Split Accepted Loans Dataset"
      ],
      "metadata": {
        "id": "snuPYYPzjD4J"
      }
    },
    {
      "cell_type": "code",
      "source": [
        "accepted_loans_1d, accepted_loans_2d, accepted_loans_3d = np.array_split(accepted_loans, 3)\n",
        "accepted_loans_1d.info()\n",
        "accepted_loans_2d.info()\n",
        "accepted_loans_3d.info()"
      ],
      "metadata": {
        "colab": {
          "base_uri": "https://localhost:8080/"
        },
        "id": "uq0VuH48i5mv",
        "outputId": "9915deab-578e-4f63-d6a6-8adb6169a225"
      },
      "execution_count": 21,
      "outputs": [
        {
          "output_type": "stream",
          "name": "stdout",
          "text": [
            "<class 'pandas.core.frame.DataFrame'>\n",
            "Int64Index: 20000 entries, 140014 to 120780\n",
            "Columns: 151 entries, id to settlement_term\n",
            "dtypes: float64(113), object(38)\n",
            "memory usage: 23.2+ MB\n",
            "<class 'pandas.core.frame.DataFrame'>\n",
            "Int64Index: 20000 entries, 2113278 to 95545\n",
            "Columns: 151 entries, id to settlement_term\n",
            "dtypes: float64(113), object(38)\n",
            "memory usage: 23.2+ MB\n",
            "<class 'pandas.core.frame.DataFrame'>\n",
            "Int64Index: 20000 entries, 583171 to 729857\n",
            "Columns: 151 entries, id to settlement_term\n",
            "dtypes: float64(113), object(38)\n",
            "memory usage: 23.2+ MB\n"
          ]
        }
      ]
    },
    {
      "cell_type": "markdown",
      "source": [
        "#### 3.1.5. Replace accepted_loans_3d dataset with values from rejected_loans dataset."
      ],
      "metadata": {
        "id": "zRPvuyHYtxT9"
      }
    },
    {
      "cell_type": "code",
      "source": [
        "accepted_loans_3d['fico_range_high'].mean()"
      ],
      "metadata": {
        "colab": {
          "base_uri": "https://localhost:8080/"
        },
        "id": "K-1KY6AeuRn6",
        "outputId": "fe0890c0-7877-4e83-efc0-7eb5aa925d6e"
      },
      "execution_count": 22,
      "outputs": [
        {
          "output_type": "execute_result",
          "data": {
            "text/plain": [
              "702.5884"
            ]
          },
          "metadata": {},
          "execution_count": 22
        }
      ]
    },
    {
      "cell_type": "code",
      "source": [
        "accepted_loans_3d['fico_range_high'] = np.where(accepted_loans_3d['fico_range_high']>0, rejected_loans['Risk_Score'], rejected_loans['Risk_Score'])"
      ],
      "metadata": {
        "id": "0Q1dAhOgt5DE"
      },
      "execution_count": 23,
      "outputs": []
    },
    {
      "cell_type": "code",
      "source": [
        "accepted_loans_3d['fico_range_high'].mean()"
      ],
      "metadata": {
        "colab": {
          "base_uri": "https://localhost:8080/"
        },
        "id": "Bd1IujXWuXyF",
        "outputId": "9c474917-cf84-408a-a311-853753686af6"
      },
      "execution_count": 24,
      "outputs": [
        {
          "output_type": "execute_result",
          "data": {
            "text/plain": [
              "628.4756"
            ]
          },
          "metadata": {},
          "execution_count": 24
        }
      ]
    },
    {
      "cell_type": "markdown",
      "source": [
        "#### 3.1.6. Re-join the dataset"
      ],
      "metadata": {
        "id": "R5bYNFHckjSM"
      }
    },
    {
      "cell_type": "code",
      "source": [
        "accepted_loans_1d.insert(loc=1, column='dataset', value=1, allow_duplicates=True)\n",
        "accepted_loans_2d.insert(loc=1, column='dataset', value=2, allow_duplicates=True)\n",
        "accepted_loans_3d.insert(loc=1, column='dataset', value=3, allow_duplicates=True)\n",
        "\n",
        "accepted_loans_d = pd.concat([accepted_loans_1d, accepted_loans_2d, accepted_loans_3d])\n",
        "accepted_loans_d[['id', 'dataset']].groupby('dataset').count()"
      ],
      "metadata": {
        "colab": {
          "base_uri": "https://localhost:8080/",
          "height": 175
        },
        "id": "VXZMp0DakwZZ",
        "outputId": "968af6d1-4992-496b-f8ed-9392d07f56c3"
      },
      "execution_count": 25,
      "outputs": [
        {
          "output_type": "execute_result",
          "data": {
            "text/plain": [
              "            id\n",
              "dataset       \n",
              "1        20000\n",
              "2        20000\n",
              "3        20000"
            ],
            "text/html": [
              "\n",
              "  <div id=\"df-d57eb03f-12ad-4228-bf04-ccc2cc9a2863\">\n",
              "    <div class=\"colab-df-container\">\n",
              "      <div>\n",
              "<style scoped>\n",
              "    .dataframe tbody tr th:only-of-type {\n",
              "        vertical-align: middle;\n",
              "    }\n",
              "\n",
              "    .dataframe tbody tr th {\n",
              "        vertical-align: top;\n",
              "    }\n",
              "\n",
              "    .dataframe thead th {\n",
              "        text-align: right;\n",
              "    }\n",
              "</style>\n",
              "<table border=\"1\" class=\"dataframe\">\n",
              "  <thead>\n",
              "    <tr style=\"text-align: right;\">\n",
              "      <th></th>\n",
              "      <th>id</th>\n",
              "    </tr>\n",
              "    <tr>\n",
              "      <th>dataset</th>\n",
              "      <th></th>\n",
              "    </tr>\n",
              "  </thead>\n",
              "  <tbody>\n",
              "    <tr>\n",
              "      <th>1</th>\n",
              "      <td>20000</td>\n",
              "    </tr>\n",
              "    <tr>\n",
              "      <th>2</th>\n",
              "      <td>20000</td>\n",
              "    </tr>\n",
              "    <tr>\n",
              "      <th>3</th>\n",
              "      <td>20000</td>\n",
              "    </tr>\n",
              "  </tbody>\n",
              "</table>\n",
              "</div>\n",
              "      <button class=\"colab-df-convert\" onclick=\"convertToInteractive('df-d57eb03f-12ad-4228-bf04-ccc2cc9a2863')\"\n",
              "              title=\"Convert this dataframe to an interactive table.\"\n",
              "              style=\"display:none;\">\n",
              "        \n",
              "  <svg xmlns=\"http://www.w3.org/2000/svg\" height=\"24px\"viewBox=\"0 0 24 24\"\n",
              "       width=\"24px\">\n",
              "    <path d=\"M0 0h24v24H0V0z\" fill=\"none\"/>\n",
              "    <path d=\"M18.56 5.44l.94 2.06.94-2.06 2.06-.94-2.06-.94-.94-2.06-.94 2.06-2.06.94zm-11 1L8.5 8.5l.94-2.06 2.06-.94-2.06-.94L8.5 2.5l-.94 2.06-2.06.94zm10 10l.94 2.06.94-2.06 2.06-.94-2.06-.94-.94-2.06-.94 2.06-2.06.94z\"/><path d=\"M17.41 7.96l-1.37-1.37c-.4-.4-.92-.59-1.43-.59-.52 0-1.04.2-1.43.59L10.3 9.45l-7.72 7.72c-.78.78-.78 2.05 0 2.83L4 21.41c.39.39.9.59 1.41.59.51 0 1.02-.2 1.41-.59l7.78-7.78 2.81-2.81c.8-.78.8-2.07 0-2.86zM5.41 20L4 18.59l7.72-7.72 1.47 1.35L5.41 20z\"/>\n",
              "  </svg>\n",
              "      </button>\n",
              "      \n",
              "  <style>\n",
              "    .colab-df-container {\n",
              "      display:flex;\n",
              "      flex-wrap:wrap;\n",
              "      gap: 12px;\n",
              "    }\n",
              "\n",
              "    .colab-df-convert {\n",
              "      background-color: #E8F0FE;\n",
              "      border: none;\n",
              "      border-radius: 50%;\n",
              "      cursor: pointer;\n",
              "      display: none;\n",
              "      fill: #1967D2;\n",
              "      height: 32px;\n",
              "      padding: 0 0 0 0;\n",
              "      width: 32px;\n",
              "    }\n",
              "\n",
              "    .colab-df-convert:hover {\n",
              "      background-color: #E2EBFA;\n",
              "      box-shadow: 0px 1px 2px rgba(60, 64, 67, 0.3), 0px 1px 3px 1px rgba(60, 64, 67, 0.15);\n",
              "      fill: #174EA6;\n",
              "    }\n",
              "\n",
              "    [theme=dark] .colab-df-convert {\n",
              "      background-color: #3B4455;\n",
              "      fill: #D2E3FC;\n",
              "    }\n",
              "\n",
              "    [theme=dark] .colab-df-convert:hover {\n",
              "      background-color: #434B5C;\n",
              "      box-shadow: 0px 1px 3px 1px rgba(0, 0, 0, 0.15);\n",
              "      filter: drop-shadow(0px 1px 2px rgba(0, 0, 0, 0.3));\n",
              "      fill: #FFFFFF;\n",
              "    }\n",
              "  </style>\n",
              "\n",
              "      <script>\n",
              "        const buttonEl =\n",
              "          document.querySelector('#df-d57eb03f-12ad-4228-bf04-ccc2cc9a2863 button.colab-df-convert');\n",
              "        buttonEl.style.display =\n",
              "          google.colab.kernel.accessAllowed ? 'block' : 'none';\n",
              "\n",
              "        async function convertToInteractive(key) {\n",
              "          const element = document.querySelector('#df-d57eb03f-12ad-4228-bf04-ccc2cc9a2863');\n",
              "          const dataTable =\n",
              "            await google.colab.kernel.invokeFunction('convertToInteractive',\n",
              "                                                     [key], {});\n",
              "          if (!dataTable) return;\n",
              "\n",
              "          const docLinkHtml = 'Like what you see? Visit the ' +\n",
              "            '<a target=\"_blank\" href=https://colab.research.google.com/notebooks/data_table.ipynb>data table notebook</a>'\n",
              "            + ' to learn more about interactive tables.';\n",
              "          element.innerHTML = '';\n",
              "          dataTable['output_type'] = 'display_data';\n",
              "          await google.colab.output.renderOutput(dataTable, element);\n",
              "          const docLink = document.createElement('div');\n",
              "          docLink.innerHTML = docLinkHtml;\n",
              "          element.appendChild(docLink);\n",
              "        }\n",
              "      </script>\n",
              "    </div>\n",
              "  </div>\n",
              "  "
            ]
          },
          "metadata": {},
          "execution_count": 25
        }
      ]
    },
    {
      "cell_type": "markdown",
      "source": [
        "### 3.2. One-way ANOVA using pingouin"
      ],
      "metadata": {
        "id": "27HouPmvytPZ"
      }
    },
    {
      "cell_type": "code",
      "source": [
        "aov = pg.anova(dv='fico_range_high', between='dataset', data=accepted_loans_d, detailed=True)"
      ],
      "metadata": {
        "id": "v5P5RgRgkfJW"
      },
      "execution_count": 26,
      "outputs": []
    },
    {
      "cell_type": "code",
      "source": [
        "aov.round(3)"
      ],
      "metadata": {
        "colab": {
          "base_uri": "https://localhost:8080/",
          "height": 112
        },
        "id": "Df1QnTHnk8yQ",
        "outputId": "b3b629d9-c535-4749-ff15-df7c75f21416"
      },
      "execution_count": 27,
      "outputs": [
        {
          "output_type": "execute_result",
          "data": {
            "text/plain": [
              "    Source            SS     DF            MS          F  p-unc    np2\n",
              "0  dataset  7.333536e+07      2  3.666768e+07  10759.229    0.0  0.264\n",
              "1   Within  2.044710e+08  59997  3.408021e+03        NaN    NaN    NaN"
            ],
            "text/html": [
              "\n",
              "  <div id=\"df-7f5ba08a-7309-4686-8513-8e243510827a\">\n",
              "    <div class=\"colab-df-container\">\n",
              "      <div>\n",
              "<style scoped>\n",
              "    .dataframe tbody tr th:only-of-type {\n",
              "        vertical-align: middle;\n",
              "    }\n",
              "\n",
              "    .dataframe tbody tr th {\n",
              "        vertical-align: top;\n",
              "    }\n",
              "\n",
              "    .dataframe thead th {\n",
              "        text-align: right;\n",
              "    }\n",
              "</style>\n",
              "<table border=\"1\" class=\"dataframe\">\n",
              "  <thead>\n",
              "    <tr style=\"text-align: right;\">\n",
              "      <th></th>\n",
              "      <th>Source</th>\n",
              "      <th>SS</th>\n",
              "      <th>DF</th>\n",
              "      <th>MS</th>\n",
              "      <th>F</th>\n",
              "      <th>p-unc</th>\n",
              "      <th>np2</th>\n",
              "    </tr>\n",
              "  </thead>\n",
              "  <tbody>\n",
              "    <tr>\n",
              "      <th>0</th>\n",
              "      <td>dataset</td>\n",
              "      <td>7.333536e+07</td>\n",
              "      <td>2</td>\n",
              "      <td>3.666768e+07</td>\n",
              "      <td>10759.229</td>\n",
              "      <td>0.0</td>\n",
              "      <td>0.264</td>\n",
              "    </tr>\n",
              "    <tr>\n",
              "      <th>1</th>\n",
              "      <td>Within</td>\n",
              "      <td>2.044710e+08</td>\n",
              "      <td>59997</td>\n",
              "      <td>3.408021e+03</td>\n",
              "      <td>NaN</td>\n",
              "      <td>NaN</td>\n",
              "      <td>NaN</td>\n",
              "    </tr>\n",
              "  </tbody>\n",
              "</table>\n",
              "</div>\n",
              "      <button class=\"colab-df-convert\" onclick=\"convertToInteractive('df-7f5ba08a-7309-4686-8513-8e243510827a')\"\n",
              "              title=\"Convert this dataframe to an interactive table.\"\n",
              "              style=\"display:none;\">\n",
              "        \n",
              "  <svg xmlns=\"http://www.w3.org/2000/svg\" height=\"24px\"viewBox=\"0 0 24 24\"\n",
              "       width=\"24px\">\n",
              "    <path d=\"M0 0h24v24H0V0z\" fill=\"none\"/>\n",
              "    <path d=\"M18.56 5.44l.94 2.06.94-2.06 2.06-.94-2.06-.94-.94-2.06-.94 2.06-2.06.94zm-11 1L8.5 8.5l.94-2.06 2.06-.94-2.06-.94L8.5 2.5l-.94 2.06-2.06.94zm10 10l.94 2.06.94-2.06 2.06-.94-2.06-.94-.94-2.06-.94 2.06-2.06.94z\"/><path d=\"M17.41 7.96l-1.37-1.37c-.4-.4-.92-.59-1.43-.59-.52 0-1.04.2-1.43.59L10.3 9.45l-7.72 7.72c-.78.78-.78 2.05 0 2.83L4 21.41c.39.39.9.59 1.41.59.51 0 1.02-.2 1.41-.59l7.78-7.78 2.81-2.81c.8-.78.8-2.07 0-2.86zM5.41 20L4 18.59l7.72-7.72 1.47 1.35L5.41 20z\"/>\n",
              "  </svg>\n",
              "      </button>\n",
              "      \n",
              "  <style>\n",
              "    .colab-df-container {\n",
              "      display:flex;\n",
              "      flex-wrap:wrap;\n",
              "      gap: 12px;\n",
              "    }\n",
              "\n",
              "    .colab-df-convert {\n",
              "      background-color: #E8F0FE;\n",
              "      border: none;\n",
              "      border-radius: 50%;\n",
              "      cursor: pointer;\n",
              "      display: none;\n",
              "      fill: #1967D2;\n",
              "      height: 32px;\n",
              "      padding: 0 0 0 0;\n",
              "      width: 32px;\n",
              "    }\n",
              "\n",
              "    .colab-df-convert:hover {\n",
              "      background-color: #E2EBFA;\n",
              "      box-shadow: 0px 1px 2px rgba(60, 64, 67, 0.3), 0px 1px 3px 1px rgba(60, 64, 67, 0.15);\n",
              "      fill: #174EA6;\n",
              "    }\n",
              "\n",
              "    [theme=dark] .colab-df-convert {\n",
              "      background-color: #3B4455;\n",
              "      fill: #D2E3FC;\n",
              "    }\n",
              "\n",
              "    [theme=dark] .colab-df-convert:hover {\n",
              "      background-color: #434B5C;\n",
              "      box-shadow: 0px 1px 3px 1px rgba(0, 0, 0, 0.15);\n",
              "      filter: drop-shadow(0px 1px 2px rgba(0, 0, 0, 0.3));\n",
              "      fill: #FFFFFF;\n",
              "    }\n",
              "  </style>\n",
              "\n",
              "      <script>\n",
              "        const buttonEl =\n",
              "          document.querySelector('#df-7f5ba08a-7309-4686-8513-8e243510827a button.colab-df-convert');\n",
              "        buttonEl.style.display =\n",
              "          google.colab.kernel.accessAllowed ? 'block' : 'none';\n",
              "\n",
              "        async function convertToInteractive(key) {\n",
              "          const element = document.querySelector('#df-7f5ba08a-7309-4686-8513-8e243510827a');\n",
              "          const dataTable =\n",
              "            await google.colab.kernel.invokeFunction('convertToInteractive',\n",
              "                                                     [key], {});\n",
              "          if (!dataTable) return;\n",
              "\n",
              "          const docLinkHtml = 'Like what you see? Visit the ' +\n",
              "            '<a target=\"_blank\" href=https://colab.research.google.com/notebooks/data_table.ipynb>data table notebook</a>'\n",
              "            + ' to learn more about interactive tables.';\n",
              "          element.innerHTML = '';\n",
              "          dataTable['output_type'] = 'display_data';\n",
              "          await google.colab.output.renderOutput(dataTable, element);\n",
              "          const docLink = document.createElement('div');\n",
              "          docLink.innerHTML = docLinkHtml;\n",
              "          element.appendChild(docLink);\n",
              "        }\n",
              "      </script>\n",
              "    </div>\n",
              "  </div>\n",
              "  "
            ]
          },
          "metadata": {},
          "execution_count": 27
        }
      ]
    },
    {
      "cell_type": "markdown",
      "source": [
        "We are considering whether the three samples were drawn from the same population or different populations.\n",
        "\n",
        "The p-value quantifies the probability of observing as or more extreme values assuming the null hypothesis, that the samples are drawn from populations with the same population means, is true.\n",
        "\n",
        "Since the 'p value' is less than 0.05 indicates that the differences are significant. Therefore, we reject the null hypothesis of equal population means. This makes sense since the three samples are derived from different datasets."
      ],
      "metadata": {
        "id": "3wmUykG-lDIb"
      }
    },
    {
      "cell_type": "markdown",
      "source": [
        "### 3.3. One-way ANOVA using scipy.stats"
      ],
      "metadata": {
        "id": "fibMStNqlGrU"
      }
    },
    {
      "cell_type": "code",
      "source": [
        "F, p = stats.f_oneway(accepted_loans_1d['fico_range_high'], accepted_loans_2d['fico_range_high'], accepted_loans_3d['fico_range_high'])\n",
        "F, p"
      ],
      "metadata": {
        "colab": {
          "base_uri": "https://localhost:8080/"
        },
        "id": "lmfwkt5plMUY",
        "outputId": "002ab453-0d09-4369-a53b-9ef61e77d9c5"
      },
      "execution_count": 28,
      "outputs": [
        {
          "output_type": "execute_result",
          "data": {
            "text/plain": [
              "(10759.228812563964, 0.0)"
            ]
          },
          "metadata": {},
          "execution_count": 28
        }
      ]
    },
    {
      "cell_type": "markdown",
      "source": [
        "We are considering whether the three samples were drawn from the same population or different populations.\n",
        "\n",
        "The p-value quantifies the probability of observing as or more extreme values assuming the null hypothesis, that the samples are drawn from populations with the same population means, is true.\n",
        "\n",
        "Since the 'p value' is less than 0.05 indicates that the differences are significant. Therefore, we reject the null hypothesis of equal population means. This makes sense since the three samples are derived from different datasets."
      ],
      "metadata": {
        "id": "_QE_YI_SlQ1F"
      }
    },
    {
      "cell_type": "markdown",
      "source": [
        "### 3.4. One-way ANOVA using statsmodels"
      ],
      "metadata": {
        "id": "Pr6P_fL0lZb6"
      }
    },
    {
      "cell_type": "code",
      "source": [
        "mod = ols('fico_range_high ~ C(dataset)', data=accepted_loans_d).fit()"
      ],
      "metadata": {
        "id": "Cuwn3goilei3"
      },
      "execution_count": 29,
      "outputs": []
    },
    {
      "cell_type": "code",
      "source": [
        "aov_table = api.stats.anova_lm(mod, typ=2)\n",
        "aov_table"
      ],
      "metadata": {
        "colab": {
          "base_uri": "https://localhost:8080/",
          "height": 112
        },
        "id": "x3RxKE0hlm6V",
        "outputId": "341dca30-81e9-4488-c2a1-7ec148c47337"
      },
      "execution_count": 30,
      "outputs": [
        {
          "output_type": "execute_result",
          "data": {
            "text/plain": [
              "                  sum_sq       df             F  PR(>F)\n",
              "C(dataset)  7.333536e+07      2.0  10759.228813     0.0\n",
              "Residual    2.044710e+08  59997.0           NaN     NaN"
            ],
            "text/html": [
              "\n",
              "  <div id=\"df-79fa7174-7b2a-471f-970f-3c6f72f8a459\">\n",
              "    <div class=\"colab-df-container\">\n",
              "      <div>\n",
              "<style scoped>\n",
              "    .dataframe tbody tr th:only-of-type {\n",
              "        vertical-align: middle;\n",
              "    }\n",
              "\n",
              "    .dataframe tbody tr th {\n",
              "        vertical-align: top;\n",
              "    }\n",
              "\n",
              "    .dataframe thead th {\n",
              "        text-align: right;\n",
              "    }\n",
              "</style>\n",
              "<table border=\"1\" class=\"dataframe\">\n",
              "  <thead>\n",
              "    <tr style=\"text-align: right;\">\n",
              "      <th></th>\n",
              "      <th>sum_sq</th>\n",
              "      <th>df</th>\n",
              "      <th>F</th>\n",
              "      <th>PR(&gt;F)</th>\n",
              "    </tr>\n",
              "  </thead>\n",
              "  <tbody>\n",
              "    <tr>\n",
              "      <th>C(dataset)</th>\n",
              "      <td>7.333536e+07</td>\n",
              "      <td>2.0</td>\n",
              "      <td>10759.228813</td>\n",
              "      <td>0.0</td>\n",
              "    </tr>\n",
              "    <tr>\n",
              "      <th>Residual</th>\n",
              "      <td>2.044710e+08</td>\n",
              "      <td>59997.0</td>\n",
              "      <td>NaN</td>\n",
              "      <td>NaN</td>\n",
              "    </tr>\n",
              "  </tbody>\n",
              "</table>\n",
              "</div>\n",
              "      <button class=\"colab-df-convert\" onclick=\"convertToInteractive('df-79fa7174-7b2a-471f-970f-3c6f72f8a459')\"\n",
              "              title=\"Convert this dataframe to an interactive table.\"\n",
              "              style=\"display:none;\">\n",
              "        \n",
              "  <svg xmlns=\"http://www.w3.org/2000/svg\" height=\"24px\"viewBox=\"0 0 24 24\"\n",
              "       width=\"24px\">\n",
              "    <path d=\"M0 0h24v24H0V0z\" fill=\"none\"/>\n",
              "    <path d=\"M18.56 5.44l.94 2.06.94-2.06 2.06-.94-2.06-.94-.94-2.06-.94 2.06-2.06.94zm-11 1L8.5 8.5l.94-2.06 2.06-.94-2.06-.94L8.5 2.5l-.94 2.06-2.06.94zm10 10l.94 2.06.94-2.06 2.06-.94-2.06-.94-.94-2.06-.94 2.06-2.06.94z\"/><path d=\"M17.41 7.96l-1.37-1.37c-.4-.4-.92-.59-1.43-.59-.52 0-1.04.2-1.43.59L10.3 9.45l-7.72 7.72c-.78.78-.78 2.05 0 2.83L4 21.41c.39.39.9.59 1.41.59.51 0 1.02-.2 1.41-.59l7.78-7.78 2.81-2.81c.8-.78.8-2.07 0-2.86zM5.41 20L4 18.59l7.72-7.72 1.47 1.35L5.41 20z\"/>\n",
              "  </svg>\n",
              "      </button>\n",
              "      \n",
              "  <style>\n",
              "    .colab-df-container {\n",
              "      display:flex;\n",
              "      flex-wrap:wrap;\n",
              "      gap: 12px;\n",
              "    }\n",
              "\n",
              "    .colab-df-convert {\n",
              "      background-color: #E8F0FE;\n",
              "      border: none;\n",
              "      border-radius: 50%;\n",
              "      cursor: pointer;\n",
              "      display: none;\n",
              "      fill: #1967D2;\n",
              "      height: 32px;\n",
              "      padding: 0 0 0 0;\n",
              "      width: 32px;\n",
              "    }\n",
              "\n",
              "    .colab-df-convert:hover {\n",
              "      background-color: #E2EBFA;\n",
              "      box-shadow: 0px 1px 2px rgba(60, 64, 67, 0.3), 0px 1px 3px 1px rgba(60, 64, 67, 0.15);\n",
              "      fill: #174EA6;\n",
              "    }\n",
              "\n",
              "    [theme=dark] .colab-df-convert {\n",
              "      background-color: #3B4455;\n",
              "      fill: #D2E3FC;\n",
              "    }\n",
              "\n",
              "    [theme=dark] .colab-df-convert:hover {\n",
              "      background-color: #434B5C;\n",
              "      box-shadow: 0px 1px 3px 1px rgba(0, 0, 0, 0.15);\n",
              "      filter: drop-shadow(0px 1px 2px rgba(0, 0, 0, 0.3));\n",
              "      fill: #FFFFFF;\n",
              "    }\n",
              "  </style>\n",
              "\n",
              "      <script>\n",
              "        const buttonEl =\n",
              "          document.querySelector('#df-79fa7174-7b2a-471f-970f-3c6f72f8a459 button.colab-df-convert');\n",
              "        buttonEl.style.display =\n",
              "          google.colab.kernel.accessAllowed ? 'block' : 'none';\n",
              "\n",
              "        async function convertToInteractive(key) {\n",
              "          const element = document.querySelector('#df-79fa7174-7b2a-471f-970f-3c6f72f8a459');\n",
              "          const dataTable =\n",
              "            await google.colab.kernel.invokeFunction('convertToInteractive',\n",
              "                                                     [key], {});\n",
              "          if (!dataTable) return;\n",
              "\n",
              "          const docLinkHtml = 'Like what you see? Visit the ' +\n",
              "            '<a target=\"_blank\" href=https://colab.research.google.com/notebooks/data_table.ipynb>data table notebook</a>'\n",
              "            + ' to learn more about interactive tables.';\n",
              "          element.innerHTML = '';\n",
              "          dataTable['output_type'] = 'display_data';\n",
              "          await google.colab.output.renderOutput(dataTable, element);\n",
              "          const docLink = document.createElement('div');\n",
              "          docLink.innerHTML = docLinkHtml;\n",
              "          element.appendChild(docLink);\n",
              "        }\n",
              "      </script>\n",
              "    </div>\n",
              "  </div>\n",
              "  "
            ]
          },
          "metadata": {},
          "execution_count": 30
        }
      ]
    },
    {
      "cell_type": "markdown",
      "source": [
        "We are considering whether the three samples were drawn from the same population or different populations.\n",
        "\n",
        "The p-value quantifies the probability of observing as or more extreme values assuming the null hypothesis, that the samples are drawn from populations with the same population means, is true.\n",
        "\n",
        "Since the 'p value' is less than 0.05 indicates that the differences are significant. Therefore, we reject the null hypothesis of equal population means. This makes sense since the three samples are derived from different datasets."
      ],
      "metadata": {
        "id": "YxDGN_IimIRd"
      }
    }
  ]
}
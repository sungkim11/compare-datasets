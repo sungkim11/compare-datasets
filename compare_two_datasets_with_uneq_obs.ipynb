{
  "nbformat": 4,
  "nbformat_minor": 0,
  "metadata": {
    "colab": {
      "provenance": [],
      "collapsed_sections": [],
      "authorship_tag": "ABX9TyPndL4s4K7VouKLNH078LMI",
      "include_colab_link": true
    },
    "kernelspec": {
      "name": "python3",
      "display_name": "Python 3"
    },
    "language_info": {
      "name": "python"
    }
  },
  "cells": [
    {
      "cell_type": "markdown",
      "metadata": {
        "id": "view-in-github",
        "colab_type": "text"
      },
      "source": [
        "<a href=\"https://colab.research.google.com/github/sungkim11/compare-datasets/blob/main/compare_two_datasets_with_uneq_obs.ipynb\" target=\"_parent\"><img src=\"https://colab.research.google.com/assets/colab-badge.svg\" alt=\"Open In Colab\"/></a>"
      ]
    },
    {
      "cell_type": "markdown",
      "source": [
        "#Comparing Datasets: Comparing two datasets with unequal number of observations (Welch's T-Test for the means of two independent samples)"
      ],
      "metadata": {
        "id": "om7z2oJhPt4Q"
      }
    },
    {
      "cell_type": "markdown",
      "source": [
        "## 1. Prerequisities"
      ],
      "metadata": {
        "id": "QeINIap_QISN"
      }
    },
    {
      "cell_type": "markdown",
      "source": [
        "Following are prerequisite for this tutorial:\n",
        "\n",
        "- Data\n",
        "- Python Packages: researchpy and scipy.stats"
      ],
      "metadata": {
        "id": "oAK3Iz8eQNmi"
      }
    },
    {
      "cell_type": "markdown",
      "source": [
        "### 1.1. Data"
      ],
      "metadata": {
        "id": "mveJTLyEQbJV"
      }
    },
    {
      "cell_type": "markdown",
      "source": [
        "The dataset used in this notebook was retrieved from kaggle (https://www.kaggle.com/datasets/wordsforthewise/lending-club) and it contains the full Lending Club data available from their site. There are two separate files for accepted and rejected loans. \n",
        "\n",
        "For the purpose of this exercise I have used 'fico_range_high' variable from the accepted dataset and 'Risk_Score' variable from the rejected dataset, which I assumed both to be derived credit score of somekind.\n",
        "\n",
        "For people who would like to understand the data in depth, here is a link of Exploratory Data Analysis (EDA) notebook of dataset here => https://www.kaggle.com/code/wordsforthewise/eda-with-python/notebook.\n",
        "\n"
      ],
      "metadata": {
        "id": "IuiuAPhMQfAT"
      }
    },
    {
      "cell_type": "markdown",
      "source": [
        "### 1.2. Python Packages"
      ],
      "metadata": {
        "id": "IQafgjAvQiUM"
      }
    },
    {
      "cell_type": "markdown",
      "source": [
        "#### 1.2.1. Install researchpy"
      ],
      "metadata": {
        "id": "louyXN7DQm_y"
      }
    },
    {
      "cell_type": "markdown",
      "source": [
        "Per researchpy's documentation, which is located here => https://researchpy.readthedocs.io/en/latest/index.html:\n",
        "\n",
        "*Researchpy produces Pandas DataFrames that contains relevant statistical testing information that is commonly required for academic research. The information is returned as Pandas DataFrames to make for quick and easy exporting of results to any format/method that works with the traditional Pandas DataFrame. Researchpy is essentially a wrapper that combines various established packages such as pandas, scipy.stats, numpy, and statsmodels to get all the standard required information in one method. If analyses were not available in these packages, code was developed to fill the gap*. "
      ],
      "metadata": {
        "id": "8d0s22AcndnA"
      }
    },
    {
      "cell_type": "code",
      "source": [
        "%%writefile requirements.txt\n",
        "\n",
        "researchpy==0.3.5"
      ],
      "metadata": {
        "colab": {
          "base_uri": "https://localhost:8080/"
        },
        "id": "Tip-X3XsuHcB",
        "outputId": "2cab4bd8-0d70-470a-842e-6c43943f1221"
      },
      "execution_count": 1,
      "outputs": [
        {
          "output_type": "stream",
          "name": "stdout",
          "text": [
            "Writing requirements.txt\n"
          ]
        }
      ]
    },
    {
      "cell_type": "code",
      "source": [
        "!pip install -r requirements.txt"
      ],
      "metadata": {
        "colab": {
          "base_uri": "https://localhost:8080/"
        },
        "id": "094PTRKIuQeQ",
        "outputId": "c7831dfd-70d0-4b28-934d-a8b553e1d61d"
      },
      "execution_count": 2,
      "outputs": [
        {
          "output_type": "stream",
          "name": "stdout",
          "text": [
            "Looking in indexes: https://pypi.org/simple, https://us-python.pkg.dev/colab-wheels/public/simple/\n",
            "Collecting researchpy==0.3.5\n",
            "  Downloading researchpy-0.3.5-py3-none-any.whl (33 kB)\n",
            "Requirement already satisfied: numpy in /usr/local/lib/python3.7/dist-packages (from researchpy==0.3.5->-r requirements.txt (line 2)) (1.21.6)\n",
            "Requirement already satisfied: scipy in /usr/local/lib/python3.7/dist-packages (from researchpy==0.3.5->-r requirements.txt (line 2)) (1.7.3)\n",
            "Requirement already satisfied: statsmodels in /usr/local/lib/python3.7/dist-packages (from researchpy==0.3.5->-r requirements.txt (line 2)) (0.12.2)\n",
            "Requirement already satisfied: patsy in /usr/local/lib/python3.7/dist-packages (from researchpy==0.3.5->-r requirements.txt (line 2)) (0.5.3)\n",
            "Requirement already satisfied: pandas in /usr/local/lib/python3.7/dist-packages (from researchpy==0.3.5->-r requirements.txt (line 2)) (1.3.5)\n",
            "Requirement already satisfied: python-dateutil>=2.7.3 in /usr/local/lib/python3.7/dist-packages (from pandas->researchpy==0.3.5->-r requirements.txt (line 2)) (2.8.2)\n",
            "Requirement already satisfied: pytz>=2017.3 in /usr/local/lib/python3.7/dist-packages (from pandas->researchpy==0.3.5->-r requirements.txt (line 2)) (2022.4)\n",
            "Requirement already satisfied: six>=1.5 in /usr/local/lib/python3.7/dist-packages (from python-dateutil>=2.7.3->pandas->researchpy==0.3.5->-r requirements.txt (line 2)) (1.15.0)\n",
            "Installing collected packages: researchpy\n",
            "Successfully installed researchpy-0.3.5\n"
          ]
        }
      ]
    },
    {
      "cell_type": "markdown",
      "source": [
        "## 2. Code (Two samples from same population)"
      ],
      "metadata": {
        "id": "PIxpJHKhQxX_"
      }
    },
    {
      "cell_type": "markdown",
      "source": [
        "### 2.1. Import Python Packages"
      ],
      "metadata": {
        "id": "_YXGMfZEQ4RU"
      }
    },
    {
      "cell_type": "markdown",
      "source": [
        "Import python packages and show its version. Showing version is important since it will enable other users to replicate your work using same python version and python packages version."
      ],
      "metadata": {
        "id": "_ErOb5RBQ-ck"
      }
    },
    {
      "cell_type": "code",
      "execution_count": 4,
      "metadata": {
        "id": "1ZLttzouhguZ",
        "colab": {
          "base_uri": "https://localhost:8080/"
        },
        "outputId": "c2e67f49-03a7-4c86-f1e5-13009b6dc857"
      },
      "outputs": [
        {
          "output_type": "stream",
          "name": "stdout",
          "text": [
            "Python:  3.7.14\n",
            "pandas:  1.3.5\n",
            "scipy:  1.7.3\n",
            "sklearn:  1.0.2\n"
          ]
        }
      ],
      "source": [
        "import pandas as pd\n",
        "import scipy\n",
        "from scipy import stats as stats\n",
        "import researchpy as rp\n",
        "import sklearn\n",
        "from sklearn.model_selection import train_test_split\n",
        "\n",
        "import platform\n",
        "\n",
        "print('Python: ', platform.python_version())\n",
        "print('pandas: ', pd.__version__)\n",
        "print('scipy: ', scipy.__version__)\n",
        "print('sklearn: ', sklearn.__version__)"
      ]
    },
    {
      "cell_type": "markdown",
      "source": [
        "### 2.2. Mount Storage"
      ],
      "metadata": {
        "id": "cyNxL8kCRBoS"
      }
    },
    {
      "cell_type": "code",
      "source": [
        "from google.colab import drive\n",
        "drive.mount('/content/drive')"
      ],
      "metadata": {
        "colab": {
          "base_uri": "https://localhost:8080/"
        },
        "id": "EY4tX1e6h8nF",
        "outputId": "77097ce6-83c3-4328-bf27-ff775fa32c48"
      },
      "execution_count": 5,
      "outputs": [
        {
          "output_type": "stream",
          "name": "stdout",
          "text": [
            "Mounted at /content/drive\n"
          ]
        }
      ]
    },
    {
      "cell_type": "markdown",
      "source": [
        "### 2.3. Exploratory Data Analysis"
      ],
      "metadata": {
        "id": "WoJGqPJvRHnR"
      }
    },
    {
      "cell_type": "markdown",
      "source": [
        "#### 2.3.1. Import and validate dataset"
      ],
      "metadata": {
        "id": "-azKlYzZROj7"
      }
    },
    {
      "cell_type": "code",
      "source": [
        "accepted_loans = pd.read_csv('/content/drive/MyDrive/Colab Notebooks/stats/data/accepted_2007_to_2018Q4.csv', low_memory=False)\n",
        "accepted_loans.info()"
      ],
      "metadata": {
        "id": "hF9kLcGOmVxf",
        "colab": {
          "base_uri": "https://localhost:8080/"
        },
        "outputId": "9239aae8-a8f7-49ff-c79b-958f7a96a62e"
      },
      "execution_count": 6,
      "outputs": [
        {
          "output_type": "stream",
          "name": "stdout",
          "text": [
            "<class 'pandas.core.frame.DataFrame'>\n",
            "RangeIndex: 2260701 entries, 0 to 2260700\n",
            "Columns: 151 entries, id to settlement_term\n",
            "dtypes: float64(113), object(38)\n",
            "memory usage: 2.5+ GB\n"
          ]
        }
      ]
    },
    {
      "cell_type": "markdown",
      "source": [
        "List of variables in accepted_loans dataset."
      ],
      "metadata": {
        "id": "DtMY62MTpQfA"
      }
    },
    {
      "cell_type": "code",
      "source": [
        "for col_name in accepted_loans.columns: \n",
        "    print(col_name)"
      ],
      "metadata": {
        "colab": {
          "base_uri": "https://localhost:8080/"
        },
        "id": "5XLhFPhVpz_h",
        "outputId": "dcf6562e-075d-4d77-e21a-4ace50e133f2"
      },
      "execution_count": 7,
      "outputs": [
        {
          "output_type": "stream",
          "name": "stdout",
          "text": [
            "id\n",
            "member_id\n",
            "loan_amnt\n",
            "funded_amnt\n",
            "funded_amnt_inv\n",
            "term\n",
            "int_rate\n",
            "installment\n",
            "grade\n",
            "sub_grade\n",
            "emp_title\n",
            "emp_length\n",
            "home_ownership\n",
            "annual_inc\n",
            "verification_status\n",
            "issue_d\n",
            "loan_status\n",
            "pymnt_plan\n",
            "url\n",
            "desc\n",
            "purpose\n",
            "title\n",
            "zip_code\n",
            "addr_state\n",
            "dti\n",
            "delinq_2yrs\n",
            "earliest_cr_line\n",
            "fico_range_low\n",
            "fico_range_high\n",
            "inq_last_6mths\n",
            "mths_since_last_delinq\n",
            "mths_since_last_record\n",
            "open_acc\n",
            "pub_rec\n",
            "revol_bal\n",
            "revol_util\n",
            "total_acc\n",
            "initial_list_status\n",
            "out_prncp\n",
            "out_prncp_inv\n",
            "total_pymnt\n",
            "total_pymnt_inv\n",
            "total_rec_prncp\n",
            "total_rec_int\n",
            "total_rec_late_fee\n",
            "recoveries\n",
            "collection_recovery_fee\n",
            "last_pymnt_d\n",
            "last_pymnt_amnt\n",
            "next_pymnt_d\n",
            "last_credit_pull_d\n",
            "last_fico_range_high\n",
            "last_fico_range_low\n",
            "collections_12_mths_ex_med\n",
            "mths_since_last_major_derog\n",
            "policy_code\n",
            "application_type\n",
            "annual_inc_joint\n",
            "dti_joint\n",
            "verification_status_joint\n",
            "acc_now_delinq\n",
            "tot_coll_amt\n",
            "tot_cur_bal\n",
            "open_acc_6m\n",
            "open_act_il\n",
            "open_il_12m\n",
            "open_il_24m\n",
            "mths_since_rcnt_il\n",
            "total_bal_il\n",
            "il_util\n",
            "open_rv_12m\n",
            "open_rv_24m\n",
            "max_bal_bc\n",
            "all_util\n",
            "total_rev_hi_lim\n",
            "inq_fi\n",
            "total_cu_tl\n",
            "inq_last_12m\n",
            "acc_open_past_24mths\n",
            "avg_cur_bal\n",
            "bc_open_to_buy\n",
            "bc_util\n",
            "chargeoff_within_12_mths\n",
            "delinq_amnt\n",
            "mo_sin_old_il_acct\n",
            "mo_sin_old_rev_tl_op\n",
            "mo_sin_rcnt_rev_tl_op\n",
            "mo_sin_rcnt_tl\n",
            "mort_acc\n",
            "mths_since_recent_bc\n",
            "mths_since_recent_bc_dlq\n",
            "mths_since_recent_inq\n",
            "mths_since_recent_revol_delinq\n",
            "num_accts_ever_120_pd\n",
            "num_actv_bc_tl\n",
            "num_actv_rev_tl\n",
            "num_bc_sats\n",
            "num_bc_tl\n",
            "num_il_tl\n",
            "num_op_rev_tl\n",
            "num_rev_accts\n",
            "num_rev_tl_bal_gt_0\n",
            "num_sats\n",
            "num_tl_120dpd_2m\n",
            "num_tl_30dpd\n",
            "num_tl_90g_dpd_24m\n",
            "num_tl_op_past_12m\n",
            "pct_tl_nvr_dlq\n",
            "percent_bc_gt_75\n",
            "pub_rec_bankruptcies\n",
            "tax_liens\n",
            "tot_hi_cred_lim\n",
            "total_bal_ex_mort\n",
            "total_bc_limit\n",
            "total_il_high_credit_limit\n",
            "revol_bal_joint\n",
            "sec_app_fico_range_low\n",
            "sec_app_fico_range_high\n",
            "sec_app_earliest_cr_line\n",
            "sec_app_inq_last_6mths\n",
            "sec_app_mort_acc\n",
            "sec_app_open_acc\n",
            "sec_app_revol_util\n",
            "sec_app_open_act_il\n",
            "sec_app_num_rev_accts\n",
            "sec_app_chargeoff_within_12_mths\n",
            "sec_app_collections_12_mths_ex_med\n",
            "sec_app_mths_since_last_major_derog\n",
            "hardship_flag\n",
            "hardship_type\n",
            "hardship_reason\n",
            "hardship_status\n",
            "deferral_term\n",
            "hardship_amount\n",
            "hardship_start_date\n",
            "hardship_end_date\n",
            "payment_plan_start_date\n",
            "hardship_length\n",
            "hardship_dpd\n",
            "hardship_loan_status\n",
            "orig_projected_additional_accrued_interest\n",
            "hardship_payoff_balance_amount\n",
            "hardship_last_payment_amount\n",
            "disbursement_method\n",
            "debt_settlement_flag\n",
            "debt_settlement_flag_date\n",
            "settlement_status\n",
            "settlement_date\n",
            "settlement_amount\n",
            "settlement_percentage\n",
            "settlement_term\n"
          ]
        }
      ]
    },
    {
      "cell_type": "markdown",
      "source": [
        "#### 2.3.2. Cleanse Dataset"
      ],
      "metadata": {
        "id": "M-tiwEtmRg66"
      }
    },
    {
      "cell_type": "markdown",
      "source": [
        "Drop all obs where 'fico_range_high' variable is null."
      ],
      "metadata": {
        "id": "8yaWWJmiphkP"
      }
    },
    {
      "cell_type": "code",
      "source": [
        "accepted_loans = accepted_loans.dropna(subset=['fico_range_high'])\n",
        "accepted_loans.info()"
      ],
      "metadata": {
        "id": "B5zyjJSsExZI",
        "colab": {
          "base_uri": "https://localhost:8080/"
        },
        "outputId": "a6b37655-a99f-489f-82fa-de263e96b970"
      },
      "execution_count": 8,
      "outputs": [
        {
          "output_type": "stream",
          "name": "stdout",
          "text": [
            "<class 'pandas.core.frame.DataFrame'>\n",
            "Int64Index: 2260668 entries, 0 to 2260698\n",
            "Columns: 151 entries, id to settlement_term\n",
            "dtypes: float64(113), object(38)\n",
            "memory usage: 2.6+ GB\n"
          ]
        }
      ]
    },
    {
      "cell_type": "markdown",
      "source": [
        "#### 2.3.3. Downsample Dataset"
      ],
      "metadata": {
        "id": "9dyR22KLRl2F"
      }
    },
    {
      "cell_type": "markdown",
      "source": [
        "Since I do not need a such big dataset and Google colab complains about running out of memory, I have downsampled the dataset size to 50,000 obs."
      ],
      "metadata": {
        "id": "gbOm2uSlR4lZ"
      }
    },
    {
      "cell_type": "code",
      "source": [
        "accepted_loans = accepted_loans.sample(n=50000)\n",
        "accepted_loans.info()"
      ],
      "metadata": {
        "id": "TM_jtdrUvvDd",
        "colab": {
          "base_uri": "https://localhost:8080/"
        },
        "outputId": "6e122dc0-cc21-4e5a-b817-23f756a5c4e6"
      },
      "execution_count": 9,
      "outputs": [
        {
          "output_type": "stream",
          "name": "stdout",
          "text": [
            "<class 'pandas.core.frame.DataFrame'>\n",
            "Int64Index: 50000 entries, 332439 to 1913958\n",
            "Columns: 151 entries, id to settlement_term\n",
            "dtypes: float64(113), object(38)\n",
            "memory usage: 58.0+ MB\n"
          ]
        }
      ]
    },
    {
      "cell_type": "markdown",
      "source": [
        "#### 2.3.4. Split Dataset"
      ],
      "metadata": {
        "id": "GHBaRUJxR0wI"
      }
    },
    {
      "cell_type": "markdown",
      "source": [
        "I have split the dataset into two datasets to illustrate comparing two datasets with similiar values."
      ],
      "metadata": {
        "id": "DVTvwCqqp4lA"
      }
    },
    {
      "cell_type": "code",
      "source": [
        "accepted_loans = accepted_loans.sort_values(by=['issue_d'])\n",
        "accepted_loans_1, accepted_loans_2 = train_test_split(accepted_loans, test_size=0.7, shuffle=False)\n",
        "accepted_loans_1.info()\n",
        "accepted_loans_2.info()"
      ],
      "metadata": {
        "id": "vAdU-EgoCPsO",
        "colab": {
          "base_uri": "https://localhost:8080/"
        },
        "outputId": "78b58322-8f2e-4c4f-f94d-5df42ed98501"
      },
      "execution_count": 20,
      "outputs": [
        {
          "output_type": "stream",
          "name": "stdout",
          "text": [
            "<class 'pandas.core.frame.DataFrame'>\n",
            "Int64Index: 15000 entries, 1653644 to 1697902\n",
            "Columns: 151 entries, id to settlement_term\n",
            "dtypes: float64(113), object(38)\n",
            "memory usage: 17.4+ MB\n",
            "<class 'pandas.core.frame.DataFrame'>\n",
            "Int64Index: 35000 entries, 1691334 to 755497\n",
            "Columns: 151 entries, id to settlement_term\n",
            "dtypes: float64(113), object(38)\n",
            "memory usage: 40.6+ MB\n"
          ]
        }
      ]
    },
    {
      "cell_type": "code",
      "source": [
        "accepted_loans_1['issue_d'].min(), accepted_loans_1['issue_d'].max()"
      ],
      "metadata": {
        "colab": {
          "base_uri": "https://localhost:8080/"
        },
        "id": "wqEYlOscCd6W",
        "outputId": "f614b4c0-eb46-4adf-9cb9-c7dee11c4e5a"
      },
      "execution_count": 21,
      "outputs": [
        {
          "output_type": "execute_result",
          "data": {
            "text/plain": [
              "('Apr-2008', 'Feb-2017')"
            ]
          },
          "metadata": {},
          "execution_count": 21
        }
      ]
    },
    {
      "cell_type": "code",
      "source": [
        "accepted_loans_2['issue_d'].min(), accepted_loans_2['issue_d'].max()"
      ],
      "metadata": {
        "colab": {
          "base_uri": "https://localhost:8080/"
        },
        "id": "nHkoTm0jCitb",
        "outputId": "368b32c4-ca3f-498b-d15a-3bd077721645"
      },
      "execution_count": 22,
      "outputs": [
        {
          "output_type": "execute_result",
          "data": {
            "text/plain": [
              "('Feb-2017', 'Sep-2018')"
            ]
          },
          "metadata": {},
          "execution_count": 22
        }
      ]
    },
    {
      "cell_type": "markdown",
      "source": [
        "### 2.4. Perform t-Test"
      ],
      "metadata": {
        "id": "peuO2EqBSTxJ"
      }
    },
    {
      "cell_type": "markdown",
      "source": [
        "Perform t-Test to determinewhether two datasets differ from each other (i.e.,  independent two-sample t-test)"
      ],
      "metadata": {
        "id": "azlXByFrSZeC"
      }
    },
    {
      "cell_type": "code",
      "source": [
        "summary, results = rp.ttest(group1 = accepted_loans_1['fico_range_high'], group1_name = \"1\",\n",
        "                            group2 = accepted_loans_2['fico_range_high'], group2_name = \"2\",\n",
        "                            paired=False,\n",
        "                            equal_variances=False\n",
        ")"
      ],
      "metadata": {
        "id": "FEN9N7vFK7SH"
      },
      "execution_count": 23,
      "outputs": []
    },
    {
      "cell_type": "code",
      "source": [
        "summary"
      ],
      "metadata": {
        "colab": {
          "base_uri": "https://localhost:8080/",
          "height": 143
        },
        "id": "piygkISWLgMj",
        "outputId": "047febc8-4e3d-4725-c6ec-f098ebe8da28"
      },
      "execution_count": 24,
      "outputs": [
        {
          "output_type": "execute_result",
          "data": {
            "text/plain": [
              "   Variable        N        Mean         SD        SE   95% Conf.    Interval\n",
              "0         1  15000.0  702.371867  32.585014  0.266056  701.850365  702.893368\n",
              "1         2  35000.0  702.448943  33.234365  0.177645  702.100753  702.797133\n",
              "2  combined  50000.0  702.425820  33.040593  0.147762  702.136205  702.715435"
            ],
            "text/html": [
              "\n",
              "  <div id=\"df-aa8225fd-b100-415b-9886-81a54d69fc27\">\n",
              "    <div class=\"colab-df-container\">\n",
              "      <div>\n",
              "<style scoped>\n",
              "    .dataframe tbody tr th:only-of-type {\n",
              "        vertical-align: middle;\n",
              "    }\n",
              "\n",
              "    .dataframe tbody tr th {\n",
              "        vertical-align: top;\n",
              "    }\n",
              "\n",
              "    .dataframe thead th {\n",
              "        text-align: right;\n",
              "    }\n",
              "</style>\n",
              "<table border=\"1\" class=\"dataframe\">\n",
              "  <thead>\n",
              "    <tr style=\"text-align: right;\">\n",
              "      <th></th>\n",
              "      <th>Variable</th>\n",
              "      <th>N</th>\n",
              "      <th>Mean</th>\n",
              "      <th>SD</th>\n",
              "      <th>SE</th>\n",
              "      <th>95% Conf.</th>\n",
              "      <th>Interval</th>\n",
              "    </tr>\n",
              "  </thead>\n",
              "  <tbody>\n",
              "    <tr>\n",
              "      <th>0</th>\n",
              "      <td>1</td>\n",
              "      <td>15000.0</td>\n",
              "      <td>702.371867</td>\n",
              "      <td>32.585014</td>\n",
              "      <td>0.266056</td>\n",
              "      <td>701.850365</td>\n",
              "      <td>702.893368</td>\n",
              "    </tr>\n",
              "    <tr>\n",
              "      <th>1</th>\n",
              "      <td>2</td>\n",
              "      <td>35000.0</td>\n",
              "      <td>702.448943</td>\n",
              "      <td>33.234365</td>\n",
              "      <td>0.177645</td>\n",
              "      <td>702.100753</td>\n",
              "      <td>702.797133</td>\n",
              "    </tr>\n",
              "    <tr>\n",
              "      <th>2</th>\n",
              "      <td>combined</td>\n",
              "      <td>50000.0</td>\n",
              "      <td>702.425820</td>\n",
              "      <td>33.040593</td>\n",
              "      <td>0.147762</td>\n",
              "      <td>702.136205</td>\n",
              "      <td>702.715435</td>\n",
              "    </tr>\n",
              "  </tbody>\n",
              "</table>\n",
              "</div>\n",
              "      <button class=\"colab-df-convert\" onclick=\"convertToInteractive('df-aa8225fd-b100-415b-9886-81a54d69fc27')\"\n",
              "              title=\"Convert this dataframe to an interactive table.\"\n",
              "              style=\"display:none;\">\n",
              "        \n",
              "  <svg xmlns=\"http://www.w3.org/2000/svg\" height=\"24px\"viewBox=\"0 0 24 24\"\n",
              "       width=\"24px\">\n",
              "    <path d=\"M0 0h24v24H0V0z\" fill=\"none\"/>\n",
              "    <path d=\"M18.56 5.44l.94 2.06.94-2.06 2.06-.94-2.06-.94-.94-2.06-.94 2.06-2.06.94zm-11 1L8.5 8.5l.94-2.06 2.06-.94-2.06-.94L8.5 2.5l-.94 2.06-2.06.94zm10 10l.94 2.06.94-2.06 2.06-.94-2.06-.94-.94-2.06-.94 2.06-2.06.94z\"/><path d=\"M17.41 7.96l-1.37-1.37c-.4-.4-.92-.59-1.43-.59-.52 0-1.04.2-1.43.59L10.3 9.45l-7.72 7.72c-.78.78-.78 2.05 0 2.83L4 21.41c.39.39.9.59 1.41.59.51 0 1.02-.2 1.41-.59l7.78-7.78 2.81-2.81c.8-.78.8-2.07 0-2.86zM5.41 20L4 18.59l7.72-7.72 1.47 1.35L5.41 20z\"/>\n",
              "  </svg>\n",
              "      </button>\n",
              "      \n",
              "  <style>\n",
              "    .colab-df-container {\n",
              "      display:flex;\n",
              "      flex-wrap:wrap;\n",
              "      gap: 12px;\n",
              "    }\n",
              "\n",
              "    .colab-df-convert {\n",
              "      background-color: #E8F0FE;\n",
              "      border: none;\n",
              "      border-radius: 50%;\n",
              "      cursor: pointer;\n",
              "      display: none;\n",
              "      fill: #1967D2;\n",
              "      height: 32px;\n",
              "      padding: 0 0 0 0;\n",
              "      width: 32px;\n",
              "    }\n",
              "\n",
              "    .colab-df-convert:hover {\n",
              "      background-color: #E2EBFA;\n",
              "      box-shadow: 0px 1px 2px rgba(60, 64, 67, 0.3), 0px 1px 3px 1px rgba(60, 64, 67, 0.15);\n",
              "      fill: #174EA6;\n",
              "    }\n",
              "\n",
              "    [theme=dark] .colab-df-convert {\n",
              "      background-color: #3B4455;\n",
              "      fill: #D2E3FC;\n",
              "    }\n",
              "\n",
              "    [theme=dark] .colab-df-convert:hover {\n",
              "      background-color: #434B5C;\n",
              "      box-shadow: 0px 1px 3px 1px rgba(0, 0, 0, 0.15);\n",
              "      filter: drop-shadow(0px 1px 2px rgba(0, 0, 0, 0.3));\n",
              "      fill: #FFFFFF;\n",
              "    }\n",
              "  </style>\n",
              "\n",
              "      <script>\n",
              "        const buttonEl =\n",
              "          document.querySelector('#df-aa8225fd-b100-415b-9886-81a54d69fc27 button.colab-df-convert');\n",
              "        buttonEl.style.display =\n",
              "          google.colab.kernel.accessAllowed ? 'block' : 'none';\n",
              "\n",
              "        async function convertToInteractive(key) {\n",
              "          const element = document.querySelector('#df-aa8225fd-b100-415b-9886-81a54d69fc27');\n",
              "          const dataTable =\n",
              "            await google.colab.kernel.invokeFunction('convertToInteractive',\n",
              "                                                     [key], {});\n",
              "          if (!dataTable) return;\n",
              "\n",
              "          const docLinkHtml = 'Like what you see? Visit the ' +\n",
              "            '<a target=\"_blank\" href=https://colab.research.google.com/notebooks/data_table.ipynb>data table notebook</a>'\n",
              "            + ' to learn more about interactive tables.';\n",
              "          element.innerHTML = '';\n",
              "          dataTable['output_type'] = 'display_data';\n",
              "          await google.colab.output.renderOutput(dataTable, element);\n",
              "          const docLink = document.createElement('div');\n",
              "          docLink.innerHTML = docLinkHtml;\n",
              "          element.appendChild(docLink);\n",
              "        }\n",
              "      </script>\n",
              "    </div>\n",
              "  </div>\n",
              "  "
            ]
          },
          "metadata": {},
          "execution_count": 24
        }
      ]
    },
    {
      "cell_type": "code",
      "source": [
        "results"
      ],
      "metadata": {
        "colab": {
          "base_uri": "https://localhost:8080/",
          "height": 363
        },
        "id": "RtEMN0bgLh4y",
        "outputId": "357ea29b-78e3-466d-899c-bfd2a79075d2"
      },
      "execution_count": 25,
      "outputs": [
        {
          "output_type": "execute_result",
          "data": {
            "text/plain": [
              "        Satterthwaite t-test     results\n",
              "0      Difference (1 - 2) =      -0.0771\n",
              "1      Degrees of freedom =   28892.8981\n",
              "2                       t =      -0.2409\n",
              "3   Two side test p value =       0.8096\n",
              "4  Difference < 0 p value =       0.4048\n",
              "5  Difference > 0 p value =       0.5952\n",
              "6               Cohen's d =      -0.0023\n",
              "7               Hedge's g =      -0.0023\n",
              "8          Glass's delta1 =      -0.0024\n",
              "9        Point-Biserial r =      -0.0014"
            ],
            "text/html": [
              "\n",
              "  <div id=\"df-4d9b4002-73d9-4123-87dc-9d8d2049ef09\">\n",
              "    <div class=\"colab-df-container\">\n",
              "      <div>\n",
              "<style scoped>\n",
              "    .dataframe tbody tr th:only-of-type {\n",
              "        vertical-align: middle;\n",
              "    }\n",
              "\n",
              "    .dataframe tbody tr th {\n",
              "        vertical-align: top;\n",
              "    }\n",
              "\n",
              "    .dataframe thead th {\n",
              "        text-align: right;\n",
              "    }\n",
              "</style>\n",
              "<table border=\"1\" class=\"dataframe\">\n",
              "  <thead>\n",
              "    <tr style=\"text-align: right;\">\n",
              "      <th></th>\n",
              "      <th>Satterthwaite t-test</th>\n",
              "      <th>results</th>\n",
              "    </tr>\n",
              "  </thead>\n",
              "  <tbody>\n",
              "    <tr>\n",
              "      <th>0</th>\n",
              "      <td>Difference (1 - 2) =</td>\n",
              "      <td>-0.0771</td>\n",
              "    </tr>\n",
              "    <tr>\n",
              "      <th>1</th>\n",
              "      <td>Degrees of freedom =</td>\n",
              "      <td>28892.8981</td>\n",
              "    </tr>\n",
              "    <tr>\n",
              "      <th>2</th>\n",
              "      <td>t =</td>\n",
              "      <td>-0.2409</td>\n",
              "    </tr>\n",
              "    <tr>\n",
              "      <th>3</th>\n",
              "      <td>Two side test p value =</td>\n",
              "      <td>0.8096</td>\n",
              "    </tr>\n",
              "    <tr>\n",
              "      <th>4</th>\n",
              "      <td>Difference &lt; 0 p value =</td>\n",
              "      <td>0.4048</td>\n",
              "    </tr>\n",
              "    <tr>\n",
              "      <th>5</th>\n",
              "      <td>Difference &gt; 0 p value =</td>\n",
              "      <td>0.5952</td>\n",
              "    </tr>\n",
              "    <tr>\n",
              "      <th>6</th>\n",
              "      <td>Cohen's d =</td>\n",
              "      <td>-0.0023</td>\n",
              "    </tr>\n",
              "    <tr>\n",
              "      <th>7</th>\n",
              "      <td>Hedge's g =</td>\n",
              "      <td>-0.0023</td>\n",
              "    </tr>\n",
              "    <tr>\n",
              "      <th>8</th>\n",
              "      <td>Glass's delta1 =</td>\n",
              "      <td>-0.0024</td>\n",
              "    </tr>\n",
              "    <tr>\n",
              "      <th>9</th>\n",
              "      <td>Point-Biserial r =</td>\n",
              "      <td>-0.0014</td>\n",
              "    </tr>\n",
              "  </tbody>\n",
              "</table>\n",
              "</div>\n",
              "      <button class=\"colab-df-convert\" onclick=\"convertToInteractive('df-4d9b4002-73d9-4123-87dc-9d8d2049ef09')\"\n",
              "              title=\"Convert this dataframe to an interactive table.\"\n",
              "              style=\"display:none;\">\n",
              "        \n",
              "  <svg xmlns=\"http://www.w3.org/2000/svg\" height=\"24px\"viewBox=\"0 0 24 24\"\n",
              "       width=\"24px\">\n",
              "    <path d=\"M0 0h24v24H0V0z\" fill=\"none\"/>\n",
              "    <path d=\"M18.56 5.44l.94 2.06.94-2.06 2.06-.94-2.06-.94-.94-2.06-.94 2.06-2.06.94zm-11 1L8.5 8.5l.94-2.06 2.06-.94-2.06-.94L8.5 2.5l-.94 2.06-2.06.94zm10 10l.94 2.06.94-2.06 2.06-.94-2.06-.94-.94-2.06-.94 2.06-2.06.94z\"/><path d=\"M17.41 7.96l-1.37-1.37c-.4-.4-.92-.59-1.43-.59-.52 0-1.04.2-1.43.59L10.3 9.45l-7.72 7.72c-.78.78-.78 2.05 0 2.83L4 21.41c.39.39.9.59 1.41.59.51 0 1.02-.2 1.41-.59l7.78-7.78 2.81-2.81c.8-.78.8-2.07 0-2.86zM5.41 20L4 18.59l7.72-7.72 1.47 1.35L5.41 20z\"/>\n",
              "  </svg>\n",
              "      </button>\n",
              "      \n",
              "  <style>\n",
              "    .colab-df-container {\n",
              "      display:flex;\n",
              "      flex-wrap:wrap;\n",
              "      gap: 12px;\n",
              "    }\n",
              "\n",
              "    .colab-df-convert {\n",
              "      background-color: #E8F0FE;\n",
              "      border: none;\n",
              "      border-radius: 50%;\n",
              "      cursor: pointer;\n",
              "      display: none;\n",
              "      fill: #1967D2;\n",
              "      height: 32px;\n",
              "      padding: 0 0 0 0;\n",
              "      width: 32px;\n",
              "    }\n",
              "\n",
              "    .colab-df-convert:hover {\n",
              "      background-color: #E2EBFA;\n",
              "      box-shadow: 0px 1px 2px rgba(60, 64, 67, 0.3), 0px 1px 3px 1px rgba(60, 64, 67, 0.15);\n",
              "      fill: #174EA6;\n",
              "    }\n",
              "\n",
              "    [theme=dark] .colab-df-convert {\n",
              "      background-color: #3B4455;\n",
              "      fill: #D2E3FC;\n",
              "    }\n",
              "\n",
              "    [theme=dark] .colab-df-convert:hover {\n",
              "      background-color: #434B5C;\n",
              "      box-shadow: 0px 1px 3px 1px rgba(0, 0, 0, 0.15);\n",
              "      filter: drop-shadow(0px 1px 2px rgba(0, 0, 0, 0.3));\n",
              "      fill: #FFFFFF;\n",
              "    }\n",
              "  </style>\n",
              "\n",
              "      <script>\n",
              "        const buttonEl =\n",
              "          document.querySelector('#df-4d9b4002-73d9-4123-87dc-9d8d2049ef09 button.colab-df-convert');\n",
              "        buttonEl.style.display =\n",
              "          google.colab.kernel.accessAllowed ? 'block' : 'none';\n",
              "\n",
              "        async function convertToInteractive(key) {\n",
              "          const element = document.querySelector('#df-4d9b4002-73d9-4123-87dc-9d8d2049ef09');\n",
              "          const dataTable =\n",
              "            await google.colab.kernel.invokeFunction('convertToInteractive',\n",
              "                                                     [key], {});\n",
              "          if (!dataTable) return;\n",
              "\n",
              "          const docLinkHtml = 'Like what you see? Visit the ' +\n",
              "            '<a target=\"_blank\" href=https://colab.research.google.com/notebooks/data_table.ipynb>data table notebook</a>'\n",
              "            + ' to learn more about interactive tables.';\n",
              "          element.innerHTML = '';\n",
              "          dataTable['output_type'] = 'display_data';\n",
              "          await google.colab.output.renderOutput(dataTable, element);\n",
              "          const docLink = document.createElement('div');\n",
              "          docLink.innerHTML = docLinkHtml;\n",
              "          element.appendChild(docLink);\n",
              "        }\n",
              "      </script>\n",
              "    </div>\n",
              "  </div>\n",
              "  "
            ]
          },
          "metadata": {},
          "execution_count": 25
        }
      ]
    },
    {
      "cell_type": "markdown",
      "source": [
        "We are considering whether the two samples were drawn from the same population or two different populations.\n",
        "\n",
        "The p-value quantifies the probability of observing as or more extreme values assuming the null hypothesis, that the samples are drawn from populations with the same population means, is true.\n",
        "\n",
        "Since the 'Two side test p value' is greater than 0.05 indicates that the differences are insignificant and our observation is not so unlikely to have occurred by chance. Therefore, we accept the null hypothesis of equal population means. This makes sense since the two samples are split  from one dataset."
      ],
      "metadata": {
        "id": "RORLYXk6qZ9x"
      }
    },
    {
      "cell_type": "code",
      "source": [
        "stats.ttest_ind(accepted_loans_1['fico_range_high'],\n",
        "                accepted_loans_2['fico_range_high'],\n",
        "                equal_var=False)"
      ],
      "metadata": {
        "colab": {
          "base_uri": "https://localhost:8080/"
        },
        "id": "mGWht0Sntxd2",
        "outputId": "c82f56bc-72f5-40ce-8a68-48735fa41772"
      },
      "execution_count": 26,
      "outputs": [
        {
          "output_type": "execute_result",
          "data": {
            "text/plain": [
              "Ttest_indResult(statistic=-0.2409297545649983, pvalue=0.8096112700187019)"
            ]
          },
          "metadata": {},
          "execution_count": 26
        }
      ]
    },
    {
      "cell_type": "markdown",
      "source": [
        "Same conclusion using stats.ttest_ind based on pvalue greater than 0.05."
      ],
      "metadata": {
        "id": "P9VT95QLvw73"
      }
    },
    {
      "cell_type": "markdown",
      "source": [
        "## 3. Code (Two samples from different population)"
      ],
      "metadata": {
        "id": "dTlKJRWpwqxL"
      }
    },
    {
      "cell_type": "markdown",
      "source": [
        "### 3.1. Exploratory Data Analysis"
      ],
      "metadata": {
        "id": "FhleJ75NyN7w"
      }
    },
    {
      "cell_type": "markdown",
      "source": [
        "#### 3.1.1. Import and validate dataset"
      ],
      "metadata": {
        "id": "eecMQtHoyUoO"
      }
    },
    {
      "cell_type": "code",
      "source": [
        "rejected_loans = pd.read_csv('/content/drive/MyDrive/Colab Notebooks/stats/data/rejected_2007_to_2018Q4.csv', low_memory=False)\n",
        "rejected_loans.info()"
      ],
      "metadata": {
        "id": "7cAG2ssSfVPb",
        "colab": {
          "base_uri": "https://localhost:8080/"
        },
        "outputId": "4623e7d1-71f7-4876-b95b-a67ae2312656"
      },
      "execution_count": 31,
      "outputs": [
        {
          "output_type": "stream",
          "name": "stdout",
          "text": [
            "<class 'pandas.core.frame.DataFrame'>\n",
            "RangeIndex: 27648741 entries, 0 to 27648740\n",
            "Data columns (total 9 columns):\n",
            " #   Column                Dtype  \n",
            "---  ------                -----  \n",
            " 0   Amount Requested      float64\n",
            " 1   Application Date      object \n",
            " 2   Loan Title            object \n",
            " 3   Risk_Score            float64\n",
            " 4   Debt-To-Income Ratio  object \n",
            " 5   Zip Code              object \n",
            " 6   State                 object \n",
            " 7   Employment Length     object \n",
            " 8   Policy Code           float64\n",
            "dtypes: float64(3), object(6)\n",
            "memory usage: 1.9+ GB\n"
          ]
        }
      ]
    },
    {
      "cell_type": "markdown",
      "source": [
        "#### 3.1.2. Cleanse Dataset"
      ],
      "metadata": {
        "id": "iptDbzQCyeV4"
      }
    },
    {
      "cell_type": "markdown",
      "source": [
        "Drop all obs where 'Risk_Score' variable is null."
      ],
      "metadata": {
        "id": "EC0BQOb8y0n1"
      }
    },
    {
      "cell_type": "code",
      "source": [
        "rejected_loans = rejected_loans.dropna(subset=['Risk_Score'])\n",
        "rejected_loans.info()"
      ],
      "metadata": {
        "id": "MeO04iNlxZuD",
        "colab": {
          "base_uri": "https://localhost:8080/"
        },
        "outputId": "7b8f3ceb-ae42-4faf-cfef-e4fc2d151d53"
      },
      "execution_count": 32,
      "outputs": [
        {
          "output_type": "stream",
          "name": "stdout",
          "text": [
            "<class 'pandas.core.frame.DataFrame'>\n",
            "Int64Index: 9151111 entries, 0 to 27648740\n",
            "Data columns (total 9 columns):\n",
            " #   Column                Dtype  \n",
            "---  ------                -----  \n",
            " 0   Amount Requested      float64\n",
            " 1   Application Date      object \n",
            " 2   Loan Title            object \n",
            " 3   Risk_Score            float64\n",
            " 4   Debt-To-Income Ratio  object \n",
            " 5   Zip Code              object \n",
            " 6   State                 object \n",
            " 7   Employment Length     object \n",
            " 8   Policy Code           float64\n",
            "dtypes: float64(3), object(6)\n",
            "memory usage: 698.2+ MB\n"
          ]
        }
      ]
    },
    {
      "cell_type": "markdown",
      "source": [
        "#### 3.1.3. Downsample Dataset"
      ],
      "metadata": {
        "id": "m2ov6F-JymsF"
      }
    },
    {
      "cell_type": "markdown",
      "source": [
        "Since I do not need a such big dataset and Google colab complains about running out of memory, I have downsampled the dataset size to 75,000 obs."
      ],
      "metadata": {
        "id": "NsvJ-vfuy7Wx"
      }
    },
    {
      "cell_type": "code",
      "source": [
        "rejected_loans = rejected_loans.sample(n=75000)\n",
        "rejected_loans.info()"
      ],
      "metadata": {
        "id": "ucd2Ab_7OUFK",
        "colab": {
          "base_uri": "https://localhost:8080/"
        },
        "outputId": "06f63775-e76a-4e79-a048-9458b0388784"
      },
      "execution_count": 33,
      "outputs": [
        {
          "output_type": "stream",
          "name": "stdout",
          "text": [
            "<class 'pandas.core.frame.DataFrame'>\n",
            "Int64Index: 75000 entries, 26665521 to 7227760\n",
            "Data columns (total 9 columns):\n",
            " #   Column                Non-Null Count  Dtype  \n",
            "---  ------                --------------  -----  \n",
            " 0   Amount Requested      75000 non-null  float64\n",
            " 1   Application Date      75000 non-null  object \n",
            " 2   Loan Title            75000 non-null  object \n",
            " 3   Risk_Score            75000 non-null  float64\n",
            " 4   Debt-To-Income Ratio  75000 non-null  object \n",
            " 5   Zip Code              75000 non-null  object \n",
            " 6   State                 75000 non-null  object \n",
            " 7   Employment Length     73736 non-null  object \n",
            " 8   Policy Code           74996 non-null  float64\n",
            "dtypes: float64(3), object(6)\n",
            "memory usage: 5.7+ MB\n"
          ]
        }
      ]
    },
    {
      "cell_type": "markdown",
      "source": [
        "### 3.4. Perform t-Test"
      ],
      "metadata": {
        "id": "27HouPmvytPZ"
      }
    },
    {
      "cell_type": "code",
      "source": [
        "summary, results = rp.ttest(group1 = accepted_loans['fico_range_high'], group1_name = \"Approved\",\n",
        "                            group2 = rejected_loans['Risk_Score'], group2_name = \"Rejected\",\n",
        "                            paired=False,\n",
        "                            equal_variances=False\n",
        "                            )"
      ],
      "metadata": {
        "id": "DHmH6d3oPxp6"
      },
      "execution_count": 34,
      "outputs": []
    },
    {
      "cell_type": "code",
      "source": [
        "summary"
      ],
      "metadata": {
        "id": "zOKBcedo9UHJ",
        "colab": {
          "base_uri": "https://localhost:8080/",
          "height": 143
        },
        "outputId": "ae67859a-342f-4ccd-f50c-95ebfbdacddd"
      },
      "execution_count": 35,
      "outputs": [
        {
          "output_type": "execute_result",
          "data": {
            "text/plain": [
              "   Variable         N        Mean         SD        SE   95% Conf.    Interval\n",
              "0  Approved   50000.0  702.425820  33.040593  0.147762  702.136205  702.715435\n",
              "1  Rejected   75000.0  627.855307  91.029607  0.332393  627.203818  628.506796\n",
              "2  combined  125000.0  657.683512  82.116183  0.232260  657.228287  658.138737"
            ],
            "text/html": [
              "\n",
              "  <div id=\"df-1ffeaefe-762e-4a63-b2b5-519391686f75\">\n",
              "    <div class=\"colab-df-container\">\n",
              "      <div>\n",
              "<style scoped>\n",
              "    .dataframe tbody tr th:only-of-type {\n",
              "        vertical-align: middle;\n",
              "    }\n",
              "\n",
              "    .dataframe tbody tr th {\n",
              "        vertical-align: top;\n",
              "    }\n",
              "\n",
              "    .dataframe thead th {\n",
              "        text-align: right;\n",
              "    }\n",
              "</style>\n",
              "<table border=\"1\" class=\"dataframe\">\n",
              "  <thead>\n",
              "    <tr style=\"text-align: right;\">\n",
              "      <th></th>\n",
              "      <th>Variable</th>\n",
              "      <th>N</th>\n",
              "      <th>Mean</th>\n",
              "      <th>SD</th>\n",
              "      <th>SE</th>\n",
              "      <th>95% Conf.</th>\n",
              "      <th>Interval</th>\n",
              "    </tr>\n",
              "  </thead>\n",
              "  <tbody>\n",
              "    <tr>\n",
              "      <th>0</th>\n",
              "      <td>Approved</td>\n",
              "      <td>50000.0</td>\n",
              "      <td>702.425820</td>\n",
              "      <td>33.040593</td>\n",
              "      <td>0.147762</td>\n",
              "      <td>702.136205</td>\n",
              "      <td>702.715435</td>\n",
              "    </tr>\n",
              "    <tr>\n",
              "      <th>1</th>\n",
              "      <td>Rejected</td>\n",
              "      <td>75000.0</td>\n",
              "      <td>627.855307</td>\n",
              "      <td>91.029607</td>\n",
              "      <td>0.332393</td>\n",
              "      <td>627.203818</td>\n",
              "      <td>628.506796</td>\n",
              "    </tr>\n",
              "    <tr>\n",
              "      <th>2</th>\n",
              "      <td>combined</td>\n",
              "      <td>125000.0</td>\n",
              "      <td>657.683512</td>\n",
              "      <td>82.116183</td>\n",
              "      <td>0.232260</td>\n",
              "      <td>657.228287</td>\n",
              "      <td>658.138737</td>\n",
              "    </tr>\n",
              "  </tbody>\n",
              "</table>\n",
              "</div>\n",
              "      <button class=\"colab-df-convert\" onclick=\"convertToInteractive('df-1ffeaefe-762e-4a63-b2b5-519391686f75')\"\n",
              "              title=\"Convert this dataframe to an interactive table.\"\n",
              "              style=\"display:none;\">\n",
              "        \n",
              "  <svg xmlns=\"http://www.w3.org/2000/svg\" height=\"24px\"viewBox=\"0 0 24 24\"\n",
              "       width=\"24px\">\n",
              "    <path d=\"M0 0h24v24H0V0z\" fill=\"none\"/>\n",
              "    <path d=\"M18.56 5.44l.94 2.06.94-2.06 2.06-.94-2.06-.94-.94-2.06-.94 2.06-2.06.94zm-11 1L8.5 8.5l.94-2.06 2.06-.94-2.06-.94L8.5 2.5l-.94 2.06-2.06.94zm10 10l.94 2.06.94-2.06 2.06-.94-2.06-.94-.94-2.06-.94 2.06-2.06.94z\"/><path d=\"M17.41 7.96l-1.37-1.37c-.4-.4-.92-.59-1.43-.59-.52 0-1.04.2-1.43.59L10.3 9.45l-7.72 7.72c-.78.78-.78 2.05 0 2.83L4 21.41c.39.39.9.59 1.41.59.51 0 1.02-.2 1.41-.59l7.78-7.78 2.81-2.81c.8-.78.8-2.07 0-2.86zM5.41 20L4 18.59l7.72-7.72 1.47 1.35L5.41 20z\"/>\n",
              "  </svg>\n",
              "      </button>\n",
              "      \n",
              "  <style>\n",
              "    .colab-df-container {\n",
              "      display:flex;\n",
              "      flex-wrap:wrap;\n",
              "      gap: 12px;\n",
              "    }\n",
              "\n",
              "    .colab-df-convert {\n",
              "      background-color: #E8F0FE;\n",
              "      border: none;\n",
              "      border-radius: 50%;\n",
              "      cursor: pointer;\n",
              "      display: none;\n",
              "      fill: #1967D2;\n",
              "      height: 32px;\n",
              "      padding: 0 0 0 0;\n",
              "      width: 32px;\n",
              "    }\n",
              "\n",
              "    .colab-df-convert:hover {\n",
              "      background-color: #E2EBFA;\n",
              "      box-shadow: 0px 1px 2px rgba(60, 64, 67, 0.3), 0px 1px 3px 1px rgba(60, 64, 67, 0.15);\n",
              "      fill: #174EA6;\n",
              "    }\n",
              "\n",
              "    [theme=dark] .colab-df-convert {\n",
              "      background-color: #3B4455;\n",
              "      fill: #D2E3FC;\n",
              "    }\n",
              "\n",
              "    [theme=dark] .colab-df-convert:hover {\n",
              "      background-color: #434B5C;\n",
              "      box-shadow: 0px 1px 3px 1px rgba(0, 0, 0, 0.15);\n",
              "      filter: drop-shadow(0px 1px 2px rgba(0, 0, 0, 0.3));\n",
              "      fill: #FFFFFF;\n",
              "    }\n",
              "  </style>\n",
              "\n",
              "      <script>\n",
              "        const buttonEl =\n",
              "          document.querySelector('#df-1ffeaefe-762e-4a63-b2b5-519391686f75 button.colab-df-convert');\n",
              "        buttonEl.style.display =\n",
              "          google.colab.kernel.accessAllowed ? 'block' : 'none';\n",
              "\n",
              "        async function convertToInteractive(key) {\n",
              "          const element = document.querySelector('#df-1ffeaefe-762e-4a63-b2b5-519391686f75');\n",
              "          const dataTable =\n",
              "            await google.colab.kernel.invokeFunction('convertToInteractive',\n",
              "                                                     [key], {});\n",
              "          if (!dataTable) return;\n",
              "\n",
              "          const docLinkHtml = 'Like what you see? Visit the ' +\n",
              "            '<a target=\"_blank\" href=https://colab.research.google.com/notebooks/data_table.ipynb>data table notebook</a>'\n",
              "            + ' to learn more about interactive tables.';\n",
              "          element.innerHTML = '';\n",
              "          dataTable['output_type'] = 'display_data';\n",
              "          await google.colab.output.renderOutput(dataTable, element);\n",
              "          const docLink = document.createElement('div');\n",
              "          docLink.innerHTML = docLinkHtml;\n",
              "          element.appendChild(docLink);\n",
              "        }\n",
              "      </script>\n",
              "    </div>\n",
              "  </div>\n",
              "  "
            ]
          },
          "metadata": {},
          "execution_count": 35
        }
      ]
    },
    {
      "cell_type": "code",
      "source": [
        "results"
      ],
      "metadata": {
        "id": "gaWnIki99OoR",
        "colab": {
          "base_uri": "https://localhost:8080/",
          "height": 363
        },
        "outputId": "67f07734-e7dd-42b3-9f8c-ca7dfd174a98"
      },
      "execution_count": 37,
      "outputs": [
        {
          "output_type": "execute_result",
          "data": {
            "text/plain": [
              "                  Satterthwaite t-test      results\n",
              "0  Difference (Approved - Rejected) =       74.5705\n",
              "1                Degrees of freedom =   101617.2567\n",
              "2                                 t =      205.0012\n",
              "3             Two side test p value =        0.0000\n",
              "4            Difference < 0 p value =        1.0000\n",
              "5            Difference > 0 p value =        0.0000\n",
              "6                         Cohen's d =        1.0140\n",
              "7                         Hedge's g =        1.0140\n",
              "8                    Glass's delta1 =        2.2569\n",
              "9                  Point-Biserial r =        0.5409"
            ],
            "text/html": [
              "\n",
              "  <div id=\"df-dddef006-a30a-4b92-b55c-7e62a8650020\">\n",
              "    <div class=\"colab-df-container\">\n",
              "      <div>\n",
              "<style scoped>\n",
              "    .dataframe tbody tr th:only-of-type {\n",
              "        vertical-align: middle;\n",
              "    }\n",
              "\n",
              "    .dataframe tbody tr th {\n",
              "        vertical-align: top;\n",
              "    }\n",
              "\n",
              "    .dataframe thead th {\n",
              "        text-align: right;\n",
              "    }\n",
              "</style>\n",
              "<table border=\"1\" class=\"dataframe\">\n",
              "  <thead>\n",
              "    <tr style=\"text-align: right;\">\n",
              "      <th></th>\n",
              "      <th>Satterthwaite t-test</th>\n",
              "      <th>results</th>\n",
              "    </tr>\n",
              "  </thead>\n",
              "  <tbody>\n",
              "    <tr>\n",
              "      <th>0</th>\n",
              "      <td>Difference (Approved - Rejected) =</td>\n",
              "      <td>74.5705</td>\n",
              "    </tr>\n",
              "    <tr>\n",
              "      <th>1</th>\n",
              "      <td>Degrees of freedom =</td>\n",
              "      <td>101617.2567</td>\n",
              "    </tr>\n",
              "    <tr>\n",
              "      <th>2</th>\n",
              "      <td>t =</td>\n",
              "      <td>205.0012</td>\n",
              "    </tr>\n",
              "    <tr>\n",
              "      <th>3</th>\n",
              "      <td>Two side test p value =</td>\n",
              "      <td>0.0000</td>\n",
              "    </tr>\n",
              "    <tr>\n",
              "      <th>4</th>\n",
              "      <td>Difference &lt; 0 p value =</td>\n",
              "      <td>1.0000</td>\n",
              "    </tr>\n",
              "    <tr>\n",
              "      <th>5</th>\n",
              "      <td>Difference &gt; 0 p value =</td>\n",
              "      <td>0.0000</td>\n",
              "    </tr>\n",
              "    <tr>\n",
              "      <th>6</th>\n",
              "      <td>Cohen's d =</td>\n",
              "      <td>1.0140</td>\n",
              "    </tr>\n",
              "    <tr>\n",
              "      <th>7</th>\n",
              "      <td>Hedge's g =</td>\n",
              "      <td>1.0140</td>\n",
              "    </tr>\n",
              "    <tr>\n",
              "      <th>8</th>\n",
              "      <td>Glass's delta1 =</td>\n",
              "      <td>2.2569</td>\n",
              "    </tr>\n",
              "    <tr>\n",
              "      <th>9</th>\n",
              "      <td>Point-Biserial r =</td>\n",
              "      <td>0.5409</td>\n",
              "    </tr>\n",
              "  </tbody>\n",
              "</table>\n",
              "</div>\n",
              "      <button class=\"colab-df-convert\" onclick=\"convertToInteractive('df-dddef006-a30a-4b92-b55c-7e62a8650020')\"\n",
              "              title=\"Convert this dataframe to an interactive table.\"\n",
              "              style=\"display:none;\">\n",
              "        \n",
              "  <svg xmlns=\"http://www.w3.org/2000/svg\" height=\"24px\"viewBox=\"0 0 24 24\"\n",
              "       width=\"24px\">\n",
              "    <path d=\"M0 0h24v24H0V0z\" fill=\"none\"/>\n",
              "    <path d=\"M18.56 5.44l.94 2.06.94-2.06 2.06-.94-2.06-.94-.94-2.06-.94 2.06-2.06.94zm-11 1L8.5 8.5l.94-2.06 2.06-.94-2.06-.94L8.5 2.5l-.94 2.06-2.06.94zm10 10l.94 2.06.94-2.06 2.06-.94-2.06-.94-.94-2.06-.94 2.06-2.06.94z\"/><path d=\"M17.41 7.96l-1.37-1.37c-.4-.4-.92-.59-1.43-.59-.52 0-1.04.2-1.43.59L10.3 9.45l-7.72 7.72c-.78.78-.78 2.05 0 2.83L4 21.41c.39.39.9.59 1.41.59.51 0 1.02-.2 1.41-.59l7.78-7.78 2.81-2.81c.8-.78.8-2.07 0-2.86zM5.41 20L4 18.59l7.72-7.72 1.47 1.35L5.41 20z\"/>\n",
              "  </svg>\n",
              "      </button>\n",
              "      \n",
              "  <style>\n",
              "    .colab-df-container {\n",
              "      display:flex;\n",
              "      flex-wrap:wrap;\n",
              "      gap: 12px;\n",
              "    }\n",
              "\n",
              "    .colab-df-convert {\n",
              "      background-color: #E8F0FE;\n",
              "      border: none;\n",
              "      border-radius: 50%;\n",
              "      cursor: pointer;\n",
              "      display: none;\n",
              "      fill: #1967D2;\n",
              "      height: 32px;\n",
              "      padding: 0 0 0 0;\n",
              "      width: 32px;\n",
              "    }\n",
              "\n",
              "    .colab-df-convert:hover {\n",
              "      background-color: #E2EBFA;\n",
              "      box-shadow: 0px 1px 2px rgba(60, 64, 67, 0.3), 0px 1px 3px 1px rgba(60, 64, 67, 0.15);\n",
              "      fill: #174EA6;\n",
              "    }\n",
              "\n",
              "    [theme=dark] .colab-df-convert {\n",
              "      background-color: #3B4455;\n",
              "      fill: #D2E3FC;\n",
              "    }\n",
              "\n",
              "    [theme=dark] .colab-df-convert:hover {\n",
              "      background-color: #434B5C;\n",
              "      box-shadow: 0px 1px 3px 1px rgba(0, 0, 0, 0.15);\n",
              "      filter: drop-shadow(0px 1px 2px rgba(0, 0, 0, 0.3));\n",
              "      fill: #FFFFFF;\n",
              "    }\n",
              "  </style>\n",
              "\n",
              "      <script>\n",
              "        const buttonEl =\n",
              "          document.querySelector('#df-dddef006-a30a-4b92-b55c-7e62a8650020 button.colab-df-convert');\n",
              "        buttonEl.style.display =\n",
              "          google.colab.kernel.accessAllowed ? 'block' : 'none';\n",
              "\n",
              "        async function convertToInteractive(key) {\n",
              "          const element = document.querySelector('#df-dddef006-a30a-4b92-b55c-7e62a8650020');\n",
              "          const dataTable =\n",
              "            await google.colab.kernel.invokeFunction('convertToInteractive',\n",
              "                                                     [key], {});\n",
              "          if (!dataTable) return;\n",
              "\n",
              "          const docLinkHtml = 'Like what you see? Visit the ' +\n",
              "            '<a target=\"_blank\" href=https://colab.research.google.com/notebooks/data_table.ipynb>data table notebook</a>'\n",
              "            + ' to learn more about interactive tables.';\n",
              "          element.innerHTML = '';\n",
              "          dataTable['output_type'] = 'display_data';\n",
              "          await google.colab.output.renderOutput(dataTable, element);\n",
              "          const docLink = document.createElement('div');\n",
              "          docLink.innerHTML = docLinkHtml;\n",
              "          element.appendChild(docLink);\n",
              "        }\n",
              "      </script>\n",
              "    </div>\n",
              "  </div>\n",
              "  "
            ]
          },
          "metadata": {},
          "execution_count": 37
        }
      ]
    },
    {
      "cell_type": "markdown",
      "source": [
        "We are considering whether the two samples were drawn from the same population or two different populations.\n",
        "\n",
        "The p-value quantifies the probability of observing as or more extreme values assuming the null hypothesis, that the samples are drawn from populations with the same population means, is true.\n",
        "\n",
        "Since the 'Two side test p value' is less than 0.05 indicates that the differences are significant that our observation is likely to have occurred by chance. Therefore, we reject the null hypothesis of equal population means. This makes sense since these two samples are from two diffferent datasets."
      ],
      "metadata": {
        "id": "bvXvsaH4xoP_"
      }
    },
    {
      "cell_type": "code",
      "source": [
        "stats.ttest_ind(accepted_loans['fico_range_high'],\n",
        "                rejected_loans['Risk_Score'],\n",
        "                equal_var=False)"
      ],
      "metadata": {
        "colab": {
          "base_uri": "https://localhost:8080/"
        },
        "id": "1BvME6XCyQvb",
        "outputId": "b213944c-3867-4a58-9dbd-c1dce0d6d549"
      },
      "execution_count": 38,
      "outputs": [
        {
          "output_type": "execute_result",
          "data": {
            "text/plain": [
              "Ttest_indResult(statistic=205.00117250321165, pvalue=0.0)"
            ]
          },
          "metadata": {},
          "execution_count": 38
        }
      ]
    },
    {
      "cell_type": "markdown",
      "source": [
        "Same conclusion using stats.ttest_ind based on pvalue less than 0.05."
      ],
      "metadata": {
        "id": "g-J6kGb_zcUv"
      }
    }
  ]
}